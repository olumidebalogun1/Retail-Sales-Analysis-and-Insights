{
 "cells": [
  {
   "cell_type": "markdown",
   "id": "aaf8cd74-11d1-46c9-adaa-2a7f057aefe8",
   "metadata": {},
   "source": [
    "#  Machine Learning - Prescriptive Modeling"
   ]
  },
  {
   "cell_type": "markdown",
   "id": "4eaadf1d-b694-4e44-92e6-e16075dd321e",
   "metadata": {},
   "source": [
    "##  Market Basket Analysis (Customer Purchase Behavior)"
   ]
  },
  {
   "cell_type": "markdown",
   "id": "434cde56-fc46-4bdb-9137-c91d42d65036",
   "metadata": {},
   "source": [
    "##  What products are frequently bought together?"
   ]
  },
  {
   "cell_type": "markdown",
   "id": "a05a3b27-e9c6-4dc5-b7a8-a13d9287af58",
   "metadata": {},
   "source": [
    "###  1. Overview\n",
    "In today’s highly competitive retail environment, understanding customer purchasing behavior is crucial for maximizing sales and enhancing customer satisfaction. This analysis implements Market Basket Analysis (MBA) using transactional data to uncover product combinations that are frequently purchased together. By applying data transformation, grouping, and combinatorial analysis, this approach enables businesses to reveal valuable product affinities that can inform cross-selling strategies, in-store placements, and promotional bundling."
   ]
  },
  {
   "cell_type": "markdown",
   "id": "a59256db-1a8e-4956-9d59-7ffb6bace60c",
   "metadata": {},
   "source": [
    "### 2. Goal\n",
    "\n",
    "- Identify frequently co-purchased products to uncover hidden patterns in customer behavior.\n",
    "- Determine the top 2-product and 3-product combinations most often bought together.\n",
    "- Generate actionable insights that can improve product placement, cross-selling opportunities, and marketing promotions.\n",
    "- Lay the groundwork for recommendation systems that can personalize customer experiences."
   ]
  },
  {
   "cell_type": "markdown",
   "id": "cc8e1532-ac41-48cb-9dda-733d492aa41c",
   "metadata": {},
   "source": [
    "###  3. Business Challenge\n",
    "\n",
    "- Lack of visibility into which products drive co-purchases.\n",
    "- Missed revenue opportunities due to ineffective product bundling.\n",
    "- Difficulty in designing targeted promotions based on real buying patterns.\n",
    "- Underperformance of campaigns due to guesswork in product relationships."
   ]
  },
  {
   "cell_type": "markdown",
   "id": "c5ef78fe-06da-46fe-8f1e-c55cb7b49393",
   "metadata": {},
   "source": [
    "###  4. Methodology\n",
    "\n",
    "- Filter Transaction Data: Isolate orders that contain multiple items by identifying repeated Order IDs.\n",
    "- Group Products by Order: Concatenate product names purchased in the same order into a single field for analysis.\n",
    "- Clean Data: Remove duplicates to ensure accurate pattern detection.\n",
    "- Apply Combinatorial Analysis: Use the itertools.combinations function to find frequent 2-product and 3-product sets.\n",
    "- Aggregate & Rank: Use collections.Counter to count and sort the most common combinations.\n",
    "- Derive Insights: Identify the top 10–20 most frequent item combinations to support marketing and product placement strategies."
   ]
  },
  {
   "cell_type": "markdown",
   "id": "f6d47642-f309-4b64-9460-aac169001856",
   "metadata": {},
   "source": [
    "## Let's take a deep dive into the data"
   ]
  },
  {
   "cell_type": "markdown",
   "id": "6c21cef7-16ab-445c-ad17-9b0e1c4ec8dc",
   "metadata": {},
   "source": [
    "### Import necessary libraries"
   ]
  },
  {
   "cell_type": "code",
   "execution_count": 10,
   "id": "cd457c12-3927-4cb3-80b2-6af5e7945b5f",
   "metadata": {},
   "outputs": [],
   "source": [
    "import pandas as pd\n",
    "import os\n",
    "import glob"
   ]
  },
  {
   "cell_type": "code",
   "execution_count": 11,
   "id": "533961de-f977-4d11-b7c2-17cf47f5a620",
   "metadata": {},
   "outputs": [
    {
     "name": "stdout",
     "output_type": "stream",
     "text": [
      "All files integrated into: C:\\Monthly_Sales\\all_data.csv\n"
     ]
    }
   ],
   "source": [
    "folder_path = r\"C:\\Monthly_Sales\"\n",
    "\n",
    "# Retrieve all CSV files from the folder using glob\n",
    "all_files = glob.glob(os.path.join(folder_path, \"*.csv\"))\n",
    "\n",
    "# All CSV files combined as one DataFrame \n",
    "all_data = pd.concat([pd.read_csv(file) for file in all_files], ignore_index=True)\n",
    "\n",
    "# Merged DataFrame saved into a new CSV\n",
    "output_file = os.path.join(folder_path, \"all_data.csv\")\n",
    "all_data.to_csv(output_file, index=False)\n",
    "\n",
    "print(\"All files integrated into:\", output_file)"
   ]
  },
  {
   "cell_type": "markdown",
   "id": "e96e4d16-2abe-45a7-9874-d28d74b9a8b7",
   "metadata": {},
   "source": [
    "### Load the updated DataFrame"
   ]
  },
  {
   "cell_type": "code",
   "execution_count": 13,
   "id": "c670793c-5a52-4674-abe4-8b7363d8fcbc",
   "metadata": {},
   "outputs": [
    {
     "data": {
      "text/html": [
       "<div>\n",
       "<style scoped>\n",
       "    .dataframe tbody tr th:only-of-type {\n",
       "        vertical-align: middle;\n",
       "    }\n",
       "\n",
       "    .dataframe tbody tr th {\n",
       "        vertical-align: top;\n",
       "    }\n",
       "\n",
       "    .dataframe thead th {\n",
       "        text-align: right;\n",
       "    }\n",
       "</style>\n",
       "<table border=\"1\" class=\"dataframe\">\n",
       "  <thead>\n",
       "    <tr style=\"text-align: right;\">\n",
       "      <th></th>\n",
       "      <th>Order ID</th>\n",
       "      <th>Product Name</th>\n",
       "      <th>Units Purchased</th>\n",
       "      <th>Unit Price</th>\n",
       "      <th>Order Date</th>\n",
       "      <th>Delivery Address</th>\n",
       "    </tr>\n",
       "  </thead>\n",
       "  <tbody>\n",
       "    <tr>\n",
       "      <th>0</th>\n",
       "      <td>175667</td>\n",
       "      <td>iPhone</td>\n",
       "      <td>1</td>\n",
       "      <td>700.0</td>\n",
       "      <td>04/24/24 19:12</td>\n",
       "      <td>135 Meadow St, Boston, MA 02215</td>\n",
       "    </tr>\n",
       "    <tr>\n",
       "      <th>1</th>\n",
       "      <td>175668</td>\n",
       "      <td>AA Batteries (4-pack)</td>\n",
       "      <td>1</td>\n",
       "      <td>5.84</td>\n",
       "      <td>04/20/24 13:45</td>\n",
       "      <td>592 4th St, San Francisco, CA 94016</td>\n",
       "    </tr>\n",
       "    <tr>\n",
       "      <th>2</th>\n",
       "      <td>175669</td>\n",
       "      <td>AA Batteries (4-pack)</td>\n",
       "      <td>1</td>\n",
       "      <td>5.84</td>\n",
       "      <td>04/28/24 09:17</td>\n",
       "      <td>632 Park St, Dallas, TX 75001</td>\n",
       "    </tr>\n",
       "    <tr>\n",
       "      <th>3</th>\n",
       "      <td>175670</td>\n",
       "      <td>AA Batteries (4-pack)</td>\n",
       "      <td>2</td>\n",
       "      <td>5.84</td>\n",
       "      <td>04/23/24 14:06</td>\n",
       "      <td>131 Pine St, San Francisco, CA 94016</td>\n",
       "    </tr>\n",
       "    <tr>\n",
       "      <th>4</th>\n",
       "      <td>175671</td>\n",
       "      <td>Samsung Odyssey Monitor</td>\n",
       "      <td>1</td>\n",
       "      <td>409.99</td>\n",
       "      <td>04/23/24 12:13</td>\n",
       "      <td>836 Forest St, Boston, MA 02215</td>\n",
       "    </tr>\n",
       "  </tbody>\n",
       "</table>\n",
       "</div>"
      ],
      "text/plain": [
       "  Order ID             Product Name Units Purchased Unit Price  \\\n",
       "0   175667                   iPhone               1      700.0   \n",
       "1   175668    AA Batteries (4-pack)               1       5.84   \n",
       "2   175669    AA Batteries (4-pack)               1       5.84   \n",
       "3   175670    AA Batteries (4-pack)               2       5.84   \n",
       "4   175671  Samsung Odyssey Monitor               1     409.99   \n",
       "\n",
       "       Order Date                      Delivery Address  \n",
       "0  04/24/24 19:12       135 Meadow St, Boston, MA 02215  \n",
       "1  04/20/24 13:45   592 4th St, San Francisco, CA 94016  \n",
       "2  04/28/24 09:17         632 Park St, Dallas, TX 75001  \n",
       "3  04/23/24 14:06  131 Pine St, San Francisco, CA 94016  \n",
       "4  04/23/24 12:13       836 Forest St, Boston, MA 02215  "
      ]
     },
     "execution_count": 13,
     "metadata": {},
     "output_type": "execute_result"
    }
   ],
   "source": [
    "# Skip Blank Rows if present in the dataset\n",
    "\n",
    "df = pd.read_csv(r'C:\\Monthly_Sales\\all_data.csv', skip_blank_lines=True)\n",
    "df.head()"
   ]
  },
  {
   "cell_type": "markdown",
   "id": "abc04d92-40ee-4455-886c-ce7ab2598d91",
   "metadata": {},
   "source": [
    "## Data Cleaning Process\n",
    "\n",
    "Thoroughly clean and standardize the data to eliminate errors, ensure consistency, and build a solid foundation for meaningful insights."
   ]
  },
  {
   "cell_type": "markdown",
   "id": "df93c4e1-931e-4373-bbe5-3c2ebf65f426",
   "metadata": {},
   "source": [
    "### Find and remove rows with NaN values"
   ]
  },
  {
   "cell_type": "code",
   "execution_count": 16,
   "id": "cefa0cdd-2e73-41ab-855d-a67396efab25",
   "metadata": {},
   "outputs": [
    {
     "data": {
      "text/plain": [
       "Order ID            23744\n",
       "Product Name        23744\n",
       "Units Purchased     23746\n",
       "Unit Price          23746\n",
       "Order Date          23747\n",
       "Delivery Address    23748\n",
       "dtype: int64"
      ]
     },
     "execution_count": 16,
     "metadata": {},
     "output_type": "execute_result"
    }
   ],
   "source": [
    "df.isna().sum()"
   ]
  },
  {
   "cell_type": "code",
   "execution_count": 17,
   "id": "681c14dc-eaa6-403e-ae62-8e95d3fef866",
   "metadata": {},
   "outputs": [
    {
     "data": {
      "text/plain": [
       "Order ID            0\n",
       "Product Name        0\n",
       "Units Purchased     0\n",
       "Unit Price          0\n",
       "Order Date          1\n",
       "Delivery Address    2\n",
       "dtype: int64"
      ]
     },
     "execution_count": 17,
     "metadata": {},
     "output_type": "execute_result"
    }
   ],
   "source": [
    "# If Nan value is present in Order ID and Unit Purchased, it will be impossible to manipulate the data.\n",
    "# Therefore, drop Nan values in Order ID and Units Purchased.\n",
    "\n",
    "df.dropna(subset=['Order ID', 'Units Purchased'], inplace=True)\n",
    "\n",
    "# Check if Nan value is present\n",
    "df.isna().sum()"
   ]
  },
  {
   "cell_type": "code",
   "execution_count": 18,
   "id": "27af972a-292a-4be4-9dc5-789e828e3dbe",
   "metadata": {},
   "outputs": [
    {
     "data": {
      "text/html": [
       "<div>\n",
       "<style scoped>\n",
       "    .dataframe tbody tr th:only-of-type {\n",
       "        vertical-align: middle;\n",
       "    }\n",
       "\n",
       "    .dataframe tbody tr th {\n",
       "        vertical-align: top;\n",
       "    }\n",
       "\n",
       "    .dataframe thead th {\n",
       "        text-align: right;\n",
       "    }\n",
       "</style>\n",
       "<table border=\"1\" class=\"dataframe\">\n",
       "  <thead>\n",
       "    <tr style=\"text-align: right;\">\n",
       "      <th></th>\n",
       "      <th>Order ID</th>\n",
       "      <th>Product Name</th>\n",
       "      <th>Units Purchased</th>\n",
       "      <th>Unit Price</th>\n",
       "      <th>Order Date</th>\n",
       "      <th>Delivery Address</th>\n",
       "    </tr>\n",
       "  </thead>\n",
       "  <tbody>\n",
       "    <tr>\n",
       "      <th>2195228</th>\n",
       "      <td>Charging Cable</td>\n",
       "      <td>1</td>\n",
       "      <td>14.95</td>\n",
       "      <td>05/24/24 07:04</td>\n",
       "      <td>852 Hickory St, San Francisco, CA 94016</td>\n",
       "      <td>NaN</td>\n",
       "    </tr>\n",
       "    <tr>\n",
       "      <th>3001506</th>\n",
       "      <td>150766</td>\n",
       "      <td>iPhone</td>\n",
       "      <td>1</td>\n",
       "      <td>7</td>\n",
       "      <td>NaN</td>\n",
       "      <td>NaN</td>\n",
       "    </tr>\n",
       "  </tbody>\n",
       "</table>\n",
       "</div>"
      ],
      "text/plain": [
       "               Order ID Product Name Units Purchased      Unit Price  \\\n",
       "2195228  Charging Cable            1           14.95  05/24/24 07:04   \n",
       "3001506          150766       iPhone               1               7   \n",
       "\n",
       "                                      Order Date Delivery Address  \n",
       "2195228  852 Hickory St, San Francisco, CA 94016              NaN  \n",
       "3001506                                      NaN              NaN  "
      ]
     },
     "execution_count": 18,
     "metadata": {},
     "output_type": "execute_result"
    }
   ],
   "source": [
    "# Further check if any NaN values or blank rows are present\n",
    "\n",
    "blank_rows_na = df[df.isnull().any(axis=1)]\n",
    "blank_rows_na"
   ]
  },
  {
   "cell_type": "markdown",
   "id": "45ac1355-fb0c-4faa-b268-f2eb2fcadd52",
   "metadata": {},
   "source": [
    "### Find and remove rows with duplicate values"
   ]
  },
  {
   "cell_type": "code",
   "execution_count": 20,
   "id": "f7afaf3b-75e6-4e02-a37a-56391ad8dee2",
   "metadata": {},
   "outputs": [
    {
     "data": {
      "text/plain": [
       "0          False\n",
       "1          False\n",
       "2          False\n",
       "3          False\n",
       "4          False\n",
       "           ...  \n",
       "9144140     True\n",
       "9144141     True\n",
       "9144142     True\n",
       "9144143     True\n",
       "9144144     True\n",
       "Length: 9120399, dtype: bool"
      ]
     },
     "execution_count": 20,
     "metadata": {},
     "output_type": "execute_result"
    }
   ],
   "source": [
    "# Find duplicate values\n",
    "\n",
    "df.duplicated()"
   ]
  },
  {
   "cell_type": "code",
   "execution_count": 21,
   "id": "d4fd8126-dfaa-4ade-a717-b03c32b9b270",
   "metadata": {},
   "outputs": [
    {
     "data": {
      "text/plain": [
       "0          False\n",
       "1          False\n",
       "2          False\n",
       "3          False\n",
       "4          False\n",
       "           ...  \n",
       "172530     False\n",
       "2195228    False\n",
       "3001506    False\n",
       "6370083    False\n",
       "6403571    False\n",
       "Length: 171546, dtype: bool"
      ]
     },
     "execution_count": 21,
     "metadata": {},
     "output_type": "execute_result"
    }
   ],
   "source": [
    "# Check again for duplicated values\n",
    "\n",
    "df.drop_duplicates(inplace = True)\n",
    "\n",
    "# Check again for duplicated values\n",
    "df.duplicated()"
   ]
  },
  {
   "cell_type": "markdown",
   "id": "dadb773e-397b-4b5c-82f8-0d019e68b1a8",
   "metadata": {},
   "source": [
    "### Verify and fix incorrect data types in the dataset"
   ]
  },
  {
   "cell_type": "code",
   "execution_count": 23,
   "id": "86116414-a8c3-4e66-94db-423283d66266",
   "metadata": {},
   "outputs": [
    {
     "data": {
      "text/plain": [
       "Order ID            object\n",
       "Product Name        object\n",
       "Units Purchased     object\n",
       "Unit Price          object\n",
       "Order Date          object\n",
       "Delivery Address    object\n",
       "dtype: object"
      ]
     },
     "execution_count": 23,
     "metadata": {},
     "output_type": "execute_result"
    }
   ],
   "source": [
    "# check for data types\n",
    "\n",
    "df.dtypes"
   ]
  },
  {
   "cell_type": "markdown",
   "id": "614ce46c-ca57-4c72-9e4e-7388b7adf04c",
   "metadata": {},
   "source": [
    "### Fix incorrect data types"
   ]
  },
  {
   "cell_type": "code",
   "execution_count": 25,
   "id": "902bb4fb-f572-49e3-8cfd-5ecc91635579",
   "metadata": {},
   "outputs": [],
   "source": [
    "df['Order Date'] = pd.to_datetime(df['Order Date'], format='%m/%d/%y %H:%M', errors='coerce')\n",
    "\n",
    "df['Units Purchased'] = pd. to_numeric(df['Units Purchased'], errors='coerce')\n",
    "\n",
    "df['Unit Price'] = pd. to_numeric(df['Unit Price'], errors='coerce')"
   ]
  },
  {
   "cell_type": "code",
   "execution_count": 26,
   "id": "534026bb-5555-435d-8c9f-042e57ceb3e1",
   "metadata": {},
   "outputs": [
    {
     "data": {
      "text/plain": [
       "Order ID            0\n",
       "Product Name        0\n",
       "Units Purchased     1\n",
       "Unit Price          2\n",
       "Order Date          3\n",
       "Delivery Address    2\n",
       "dtype: int64"
      ]
     },
     "execution_count": 26,
     "metadata": {},
     "output_type": "execute_result"
    }
   ],
   "source": [
    "# Verify the presence of NaN values remaining in the columns as a result of using errors='coerce' during data conversion.\n",
    "\n",
    "df.isna().sum()"
   ]
  },
  {
   "cell_type": "code",
   "execution_count": 27,
   "id": "2b71fc8b-8acd-46e8-a339-707237c4280d",
   "metadata": {},
   "outputs": [],
   "source": [
    "df = df.dropna()"
   ]
  },
  {
   "cell_type": "markdown",
   "id": "e5382b09-15a8-42ff-a80d-1802a4894e15",
   "metadata": {},
   "source": [
    "### Change the data type to optimize memory usage (Optional)"
   ]
  },
  {
   "cell_type": "code",
   "execution_count": 29,
   "id": "3f3d661b-ec28-4e58-91d6-73dec63c3638",
   "metadata": {},
   "outputs": [],
   "source": [
    "df['Order ID'] = pd.to_numeric(df['Order ID'], downcast='integer') \n",
    "df['Product Name'] = df['Product Name'].astype('category')  \n",
    "df['Units Purchased'] = df['Units Purchased']. astype('int8') \n",
    "df['Unit Price'] = pd.to_numeric(df['Unit Price'], downcast='float')   \n",
    "df['Delivery Address'] = df['Delivery Address'].astype('category') "
   ]
  },
  {
   "cell_type": "markdown",
   "id": "aa1f4982-07ad-4fbd-86b5-4e9474d5dc6a",
   "metadata": {},
   "source": [
    "## Expand the dataset with supplementary columns"
   ]
  },
  {
   "cell_type": "code",
   "execution_count": 31,
   "id": "0adba2d8-d076-4618-902b-7406d391147a",
   "metadata": {},
   "outputs": [
    {
     "data": {
      "text/html": [
       "<div>\n",
       "<style scoped>\n",
       "    .dataframe tbody tr th:only-of-type {\n",
       "        vertical-align: middle;\n",
       "    }\n",
       "\n",
       "    .dataframe tbody tr th {\n",
       "        vertical-align: top;\n",
       "    }\n",
       "\n",
       "    .dataframe thead th {\n",
       "        text-align: right;\n",
       "    }\n",
       "</style>\n",
       "<table border=\"1\" class=\"dataframe\">\n",
       "  <thead>\n",
       "    <tr style=\"text-align: right;\">\n",
       "      <th></th>\n",
       "      <th>Order ID</th>\n",
       "      <th>Product Name</th>\n",
       "      <th>Units Purchased</th>\n",
       "      <th>Unit Price</th>\n",
       "      <th>Order Date</th>\n",
       "      <th>Delivery Address</th>\n",
       "      <th>Month</th>\n",
       "      <th>Year</th>\n",
       "    </tr>\n",
       "  </thead>\n",
       "  <tbody>\n",
       "    <tr>\n",
       "      <th>0</th>\n",
       "      <td>175667</td>\n",
       "      <td>iPhone</td>\n",
       "      <td>1</td>\n",
       "      <td>700.00000</td>\n",
       "      <td>2024-04-24 19:12:00</td>\n",
       "      <td>135 Meadow St, Boston, MA 02215</td>\n",
       "      <td>4</td>\n",
       "      <td>2024</td>\n",
       "    </tr>\n",
       "    <tr>\n",
       "      <th>1</th>\n",
       "      <td>175668</td>\n",
       "      <td>AA Batteries (4-pack)</td>\n",
       "      <td>1</td>\n",
       "      <td>5.84000</td>\n",
       "      <td>2024-04-20 13:45:00</td>\n",
       "      <td>592 4th St, San Francisco, CA 94016</td>\n",
       "      <td>4</td>\n",
       "      <td>2024</td>\n",
       "    </tr>\n",
       "    <tr>\n",
       "      <th>2</th>\n",
       "      <td>175669</td>\n",
       "      <td>AA Batteries (4-pack)</td>\n",
       "      <td>1</td>\n",
       "      <td>5.84000</td>\n",
       "      <td>2024-04-28 09:17:00</td>\n",
       "      <td>632 Park St, Dallas, TX 75001</td>\n",
       "      <td>4</td>\n",
       "      <td>2024</td>\n",
       "    </tr>\n",
       "    <tr>\n",
       "      <th>3</th>\n",
       "      <td>175670</td>\n",
       "      <td>AA Batteries (4-pack)</td>\n",
       "      <td>2</td>\n",
       "      <td>5.84000</td>\n",
       "      <td>2024-04-23 14:06:00</td>\n",
       "      <td>131 Pine St, San Francisco, CA 94016</td>\n",
       "      <td>4</td>\n",
       "      <td>2024</td>\n",
       "    </tr>\n",
       "    <tr>\n",
       "      <th>4</th>\n",
       "      <td>175671</td>\n",
       "      <td>Samsung Odyssey Monitor</td>\n",
       "      <td>1</td>\n",
       "      <td>409.98999</td>\n",
       "      <td>2024-04-23 12:13:00</td>\n",
       "      <td>836 Forest St, Boston, MA 02215</td>\n",
       "      <td>4</td>\n",
       "      <td>2024</td>\n",
       "    </tr>\n",
       "    <tr>\n",
       "      <th>...</th>\n",
       "      <td>...</td>\n",
       "      <td>...</td>\n",
       "      <td>...</td>\n",
       "      <td>...</td>\n",
       "      <td>...</td>\n",
       "      <td>...</td>\n",
       "      <td>...</td>\n",
       "      <td>...</td>\n",
       "    </tr>\n",
       "    <tr>\n",
       "      <th>172528</th>\n",
       "      <td>248378</td>\n",
       "      <td>Google Phone</td>\n",
       "      <td>1</td>\n",
       "      <td>600.00000</td>\n",
       "      <td>2024-09-02 08:53:00</td>\n",
       "      <td>668 Wilson St, Boston, MA 02215</td>\n",
       "      <td>9</td>\n",
       "      <td>2024</td>\n",
       "    </tr>\n",
       "    <tr>\n",
       "      <th>172529</th>\n",
       "      <td>248379</td>\n",
       "      <td>Alienware Monitor</td>\n",
       "      <td>1</td>\n",
       "      <td>400.98999</td>\n",
       "      <td>2024-09-04 22:58:00</td>\n",
       "      <td>466 2nd St, Boston, MA 02215</td>\n",
       "      <td>9</td>\n",
       "      <td>2024</td>\n",
       "    </tr>\n",
       "    <tr>\n",
       "      <th>172530</th>\n",
       "      <td>248380</td>\n",
       "      <td>AAA Batteries (4-pack)</td>\n",
       "      <td>1</td>\n",
       "      <td>4.99000</td>\n",
       "      <td>2024-09-04 13:09:00</td>\n",
       "      <td>133 Walnut St, Seattle, WA 98101</td>\n",
       "      <td>9</td>\n",
       "      <td>2024</td>\n",
       "    </tr>\n",
       "    <tr>\n",
       "      <th>6370083</th>\n",
       "      <td>252436</td>\n",
       "      <td>Apple Airpods Headphones</td>\n",
       "      <td>1</td>\n",
       "      <td>150.00000</td>\n",
       "      <td>2024-10-14 16:44:00</td>\n",
       "      <td>740 Dogwood St, Boston, \\rA 02215</td>\n",
       "      <td>10</td>\n",
       "      <td>2024</td>\n",
       "    </tr>\n",
       "    <tr>\n",
       "      <th>6403571</th>\n",
       "      <td>233092</td>\n",
       "      <td>USB-C Charging Cable</td>\n",
       "      <td>1</td>\n",
       "      <td>11.95000</td>\n",
       "      <td>2024-08-28 12:39:00</td>\n",
       "      <td>740 Dogwood St, Boston, \\rA 02215</td>\n",
       "      <td>8</td>\n",
       "      <td>2024</td>\n",
       "    </tr>\n",
       "  </tbody>\n",
       "</table>\n",
       "<p>171543 rows × 8 columns</p>\n",
       "</div>"
      ],
      "text/plain": [
       "         Order ID              Product Name  Units Purchased  Unit Price  \\\n",
       "0          175667                    iPhone                1   700.00000   \n",
       "1          175668     AA Batteries (4-pack)                1     5.84000   \n",
       "2          175669     AA Batteries (4-pack)                1     5.84000   \n",
       "3          175670     AA Batteries (4-pack)                2     5.84000   \n",
       "4          175671   Samsung Odyssey Monitor                1   409.98999   \n",
       "...           ...                       ...              ...         ...   \n",
       "172528     248378              Google Phone                1   600.00000   \n",
       "172529     248379         Alienware Monitor                1   400.98999   \n",
       "172530     248380    AAA Batteries (4-pack)                1     4.99000   \n",
       "6370083    252436  Apple Airpods Headphones                1   150.00000   \n",
       "6403571    233092      USB-C Charging Cable                1    11.95000   \n",
       "\n",
       "                 Order Date                      Delivery Address  Month  Year  \n",
       "0       2024-04-24 19:12:00       135 Meadow St, Boston, MA 02215      4  2024  \n",
       "1       2024-04-20 13:45:00   592 4th St, San Francisco, CA 94016      4  2024  \n",
       "2       2024-04-28 09:17:00         632 Park St, Dallas, TX 75001      4  2024  \n",
       "3       2024-04-23 14:06:00  131 Pine St, San Francisco, CA 94016      4  2024  \n",
       "4       2024-04-23 12:13:00       836 Forest St, Boston, MA 02215      4  2024  \n",
       "...                     ...                                   ...    ...   ...  \n",
       "172528  2024-09-02 08:53:00       668 Wilson St, Boston, MA 02215      9  2024  \n",
       "172529  2024-09-04 22:58:00          466 2nd St, Boston, MA 02215      9  2024  \n",
       "172530  2024-09-04 13:09:00      133 Walnut St, Seattle, WA 98101      9  2024  \n",
       "6370083 2024-10-14 16:44:00     740 Dogwood St, Boston, \\rA 02215     10  2024  \n",
       "6403571 2024-08-28 12:39:00     740 Dogwood St, Boston, \\rA 02215      8  2024  \n",
       "\n",
       "[171543 rows x 8 columns]"
      ]
     },
     "execution_count": 31,
     "metadata": {},
     "output_type": "execute_result"
    }
   ],
   "source": [
    "# Add Month and Year \n",
    "df['Month'] = df['Order Date'].dt.month\n",
    "df['Year'] = df['Order Date'].dt.year\n",
    "\n",
    "df"
   ]
  },
  {
   "cell_type": "code",
   "execution_count": 32,
   "id": "ffeb1076-b884-422a-ae31-9ed0c56ac1ff",
   "metadata": {},
   "outputs": [
    {
     "data": {
      "text/html": [
       "<div>\n",
       "<style scoped>\n",
       "    .dataframe tbody tr th:only-of-type {\n",
       "        vertical-align: middle;\n",
       "    }\n",
       "\n",
       "    .dataframe tbody tr th {\n",
       "        vertical-align: top;\n",
       "    }\n",
       "\n",
       "    .dataframe thead th {\n",
       "        text-align: right;\n",
       "    }\n",
       "</style>\n",
       "<table border=\"1\" class=\"dataframe\">\n",
       "  <thead>\n",
       "    <tr style=\"text-align: right;\">\n",
       "      <th></th>\n",
       "      <th>Order ID</th>\n",
       "      <th>Product Name</th>\n",
       "      <th>Units Purchased</th>\n",
       "      <th>Unit Price</th>\n",
       "      <th>Order Date</th>\n",
       "      <th>Delivery Address</th>\n",
       "      <th>Month</th>\n",
       "      <th>Year</th>\n",
       "      <th>Total Sales</th>\n",
       "    </tr>\n",
       "  </thead>\n",
       "  <tbody>\n",
       "    <tr>\n",
       "      <th>0</th>\n",
       "      <td>175667</td>\n",
       "      <td>iPhone</td>\n",
       "      <td>1</td>\n",
       "      <td>700.00000</td>\n",
       "      <td>2024-04-24 19:12:00</td>\n",
       "      <td>135 Meadow St, Boston, MA 02215</td>\n",
       "      <td>4</td>\n",
       "      <td>2024</td>\n",
       "      <td>700.00000</td>\n",
       "    </tr>\n",
       "    <tr>\n",
       "      <th>1</th>\n",
       "      <td>175668</td>\n",
       "      <td>AA Batteries (4-pack)</td>\n",
       "      <td>1</td>\n",
       "      <td>5.84000</td>\n",
       "      <td>2024-04-20 13:45:00</td>\n",
       "      <td>592 4th St, San Francisco, CA 94016</td>\n",
       "      <td>4</td>\n",
       "      <td>2024</td>\n",
       "      <td>5.84000</td>\n",
       "    </tr>\n",
       "    <tr>\n",
       "      <th>2</th>\n",
       "      <td>175669</td>\n",
       "      <td>AA Batteries (4-pack)</td>\n",
       "      <td>1</td>\n",
       "      <td>5.84000</td>\n",
       "      <td>2024-04-28 09:17:00</td>\n",
       "      <td>632 Park St, Dallas, TX 75001</td>\n",
       "      <td>4</td>\n",
       "      <td>2024</td>\n",
       "      <td>5.84000</td>\n",
       "    </tr>\n",
       "    <tr>\n",
       "      <th>3</th>\n",
       "      <td>175670</td>\n",
       "      <td>AA Batteries (4-pack)</td>\n",
       "      <td>2</td>\n",
       "      <td>5.84000</td>\n",
       "      <td>2024-04-23 14:06:00</td>\n",
       "      <td>131 Pine St, San Francisco, CA 94016</td>\n",
       "      <td>4</td>\n",
       "      <td>2024</td>\n",
       "      <td>11.68000</td>\n",
       "    </tr>\n",
       "    <tr>\n",
       "      <th>4</th>\n",
       "      <td>175671</td>\n",
       "      <td>Samsung Odyssey Monitor</td>\n",
       "      <td>1</td>\n",
       "      <td>409.98999</td>\n",
       "      <td>2024-04-23 12:13:00</td>\n",
       "      <td>836 Forest St, Boston, MA 02215</td>\n",
       "      <td>4</td>\n",
       "      <td>2024</td>\n",
       "      <td>409.98999</td>\n",
       "    </tr>\n",
       "  </tbody>\n",
       "</table>\n",
       "</div>"
      ],
      "text/plain": [
       "   Order ID             Product Name  Units Purchased  Unit Price  \\\n",
       "0    175667                   iPhone                1   700.00000   \n",
       "1    175668    AA Batteries (4-pack)                1     5.84000   \n",
       "2    175669    AA Batteries (4-pack)                1     5.84000   \n",
       "3    175670    AA Batteries (4-pack)                2     5.84000   \n",
       "4    175671  Samsung Odyssey Monitor                1   409.98999   \n",
       "\n",
       "           Order Date                      Delivery Address  Month  Year  \\\n",
       "0 2024-04-24 19:12:00       135 Meadow St, Boston, MA 02215      4  2024   \n",
       "1 2024-04-20 13:45:00   592 4th St, San Francisco, CA 94016      4  2024   \n",
       "2 2024-04-28 09:17:00         632 Park St, Dallas, TX 75001      4  2024   \n",
       "3 2024-04-23 14:06:00  131 Pine St, San Francisco, CA 94016      4  2024   \n",
       "4 2024-04-23 12:13:00       836 Forest St, Boston, MA 02215      4  2024   \n",
       "\n",
       "   Total Sales  \n",
       "0    700.00000  \n",
       "1      5.84000  \n",
       "2      5.84000  \n",
       "3     11.68000  \n",
       "4    409.98999  "
      ]
     },
     "execution_count": 32,
     "metadata": {},
     "output_type": "execute_result"
    }
   ],
   "source": [
    "# Add Total Sales column\n",
    "\n",
    "df['Total Sales'] = df['Units Purchased'] * df['Unit Price']\n",
    "df.head()"
   ]
  },
  {
   "cell_type": "markdown",
   "id": "eab8d489-6662-4bb2-afd1-e7bb58b83fee",
   "metadata": {},
   "source": [
    "### Format Unit Price and Total Sales to 2 decimal places"
   ]
  },
  {
   "cell_type": "code",
   "execution_count": 34,
   "id": "4da63204-6cc1-4a2b-8ad9-f2402c2681fa",
   "metadata": {},
   "outputs": [
    {
     "data": {
      "text/html": [
       "<div>\n",
       "<style scoped>\n",
       "    .dataframe tbody tr th:only-of-type {\n",
       "        vertical-align: middle;\n",
       "    }\n",
       "\n",
       "    .dataframe tbody tr th {\n",
       "        vertical-align: top;\n",
       "    }\n",
       "\n",
       "    .dataframe thead th {\n",
       "        text-align: right;\n",
       "    }\n",
       "</style>\n",
       "<table border=\"1\" class=\"dataframe\">\n",
       "  <thead>\n",
       "    <tr style=\"text-align: right;\">\n",
       "      <th></th>\n",
       "      <th>Order ID</th>\n",
       "      <th>Product Name</th>\n",
       "      <th>Units Purchased</th>\n",
       "      <th>Unit Price</th>\n",
       "      <th>Order Date</th>\n",
       "      <th>Delivery Address</th>\n",
       "      <th>Month</th>\n",
       "      <th>Year</th>\n",
       "      <th>Total Sales</th>\n",
       "    </tr>\n",
       "  </thead>\n",
       "  <tbody>\n",
       "    <tr>\n",
       "      <th>0</th>\n",
       "      <td>175667</td>\n",
       "      <td>iPhone</td>\n",
       "      <td>1</td>\n",
       "      <td>700.00</td>\n",
       "      <td>2024-04-24 19:12:00</td>\n",
       "      <td>135 Meadow St, Boston, MA 02215</td>\n",
       "      <td>4</td>\n",
       "      <td>2024</td>\n",
       "      <td>700.00</td>\n",
       "    </tr>\n",
       "    <tr>\n",
       "      <th>1</th>\n",
       "      <td>175668</td>\n",
       "      <td>AA Batteries (4-pack)</td>\n",
       "      <td>1</td>\n",
       "      <td>5.84</td>\n",
       "      <td>2024-04-20 13:45:00</td>\n",
       "      <td>592 4th St, San Francisco, CA 94016</td>\n",
       "      <td>4</td>\n",
       "      <td>2024</td>\n",
       "      <td>5.84</td>\n",
       "    </tr>\n",
       "    <tr>\n",
       "      <th>2</th>\n",
       "      <td>175669</td>\n",
       "      <td>AA Batteries (4-pack)</td>\n",
       "      <td>1</td>\n",
       "      <td>5.84</td>\n",
       "      <td>2024-04-28 09:17:00</td>\n",
       "      <td>632 Park St, Dallas, TX 75001</td>\n",
       "      <td>4</td>\n",
       "      <td>2024</td>\n",
       "      <td>5.84</td>\n",
       "    </tr>\n",
       "    <tr>\n",
       "      <th>3</th>\n",
       "      <td>175670</td>\n",
       "      <td>AA Batteries (4-pack)</td>\n",
       "      <td>2</td>\n",
       "      <td>5.84</td>\n",
       "      <td>2024-04-23 14:06:00</td>\n",
       "      <td>131 Pine St, San Francisco, CA 94016</td>\n",
       "      <td>4</td>\n",
       "      <td>2024</td>\n",
       "      <td>11.68</td>\n",
       "    </tr>\n",
       "    <tr>\n",
       "      <th>4</th>\n",
       "      <td>175671</td>\n",
       "      <td>Samsung Odyssey Monitor</td>\n",
       "      <td>1</td>\n",
       "      <td>409.99</td>\n",
       "      <td>2024-04-23 12:13:00</td>\n",
       "      <td>836 Forest St, Boston, MA 02215</td>\n",
       "      <td>4</td>\n",
       "      <td>2024</td>\n",
       "      <td>409.99</td>\n",
       "    </tr>\n",
       "  </tbody>\n",
       "</table>\n",
       "</div>"
      ],
      "text/plain": [
       "   Order ID             Product Name  Units Purchased Unit Price  \\\n",
       "0    175667                   iPhone                1     700.00   \n",
       "1    175668    AA Batteries (4-pack)                1       5.84   \n",
       "2    175669    AA Batteries (4-pack)                1       5.84   \n",
       "3    175670    AA Batteries (4-pack)                2       5.84   \n",
       "4    175671  Samsung Odyssey Monitor                1     409.99   \n",
       "\n",
       "           Order Date                      Delivery Address  Month  Year  \\\n",
       "0 2024-04-24 19:12:00       135 Meadow St, Boston, MA 02215      4  2024   \n",
       "1 2024-04-20 13:45:00   592 4th St, San Francisco, CA 94016      4  2024   \n",
       "2 2024-04-28 09:17:00         632 Park St, Dallas, TX 75001      4  2024   \n",
       "3 2024-04-23 14:06:00  131 Pine St, San Francisco, CA 94016      4  2024   \n",
       "4 2024-04-23 12:13:00       836 Forest St, Boston, MA 02215      4  2024   \n",
       "\n",
       "  Total Sales  \n",
       "0      700.00  \n",
       "1        5.84  \n",
       "2        5.84  \n",
       "3       11.68  \n",
       "4      409.99  "
      ]
     },
     "execution_count": 34,
     "metadata": {},
     "output_type": "execute_result"
    }
   ],
   "source": [
    "df['Unit Price'] = df['Unit Price'].apply(lambda x: \"%.2f\" % x)\n",
    "\n",
    "df['Total Sales'] = df['Total Sales'].apply(lambda x: \"%.2f\" % x)\n",
    "df.head()"
   ]
  },
  {
   "cell_type": "code",
   "execution_count": 35,
   "id": "463a36f7-c715-4c84-aafa-a2d7a38f92cf",
   "metadata": {},
   "outputs": [],
   "source": [
    "# Convert from string to numeric\n",
    "\n",
    "df['Unit Price'] = pd.to_numeric(df['Unit Price'])\n",
    "df['Total Sales'] = pd.to_numeric(df['Total Sales'])"
   ]
  },
  {
   "cell_type": "code",
   "execution_count": 36,
   "id": "93004e53-0814-4244-981f-ad5a56ad94cd",
   "metadata": {},
   "outputs": [
    {
     "data": {
      "text/plain": [
       "Order ID                     int32\n",
       "Product Name              category\n",
       "Units Purchased               int8\n",
       "Unit Price                 float64\n",
       "Order Date          datetime64[ns]\n",
       "Delivery Address          category\n",
       "Month                        int32\n",
       "Year                         int32\n",
       "Total Sales                float64\n",
       "dtype: object"
      ]
     },
     "execution_count": 36,
     "metadata": {},
     "output_type": "execute_result"
    }
   ],
   "source": [
    "df.dtypes"
   ]
  },
  {
   "cell_type": "markdown",
   "id": "7e8e75fe-2adf-494a-a34f-1f91a333bf7f",
   "metadata": {},
   "source": [
    "### Organize Data by Order Date Chronologically and Reindex"
   ]
  },
  {
   "cell_type": "code",
   "execution_count": 38,
   "id": "10e2c04d-bb82-459e-8645-63f24f68f935",
   "metadata": {},
   "outputs": [
    {
     "data": {
      "text/html": [
       "<div>\n",
       "<style scoped>\n",
       "    .dataframe tbody tr th:only-of-type {\n",
       "        vertical-align: middle;\n",
       "    }\n",
       "\n",
       "    .dataframe tbody tr th {\n",
       "        vertical-align: top;\n",
       "    }\n",
       "\n",
       "    .dataframe thead th {\n",
       "        text-align: right;\n",
       "    }\n",
       "</style>\n",
       "<table border=\"1\" class=\"dataframe\">\n",
       "  <thead>\n",
       "    <tr style=\"text-align: right;\">\n",
       "      <th></th>\n",
       "      <th>Order ID</th>\n",
       "      <th>Product Name</th>\n",
       "      <th>Units Purchased</th>\n",
       "      <th>Unit Price</th>\n",
       "      <th>Order Date</th>\n",
       "      <th>Delivery Address</th>\n",
       "      <th>Month</th>\n",
       "      <th>Year</th>\n",
       "      <th>Total Sales</th>\n",
       "    </tr>\n",
       "  </thead>\n",
       "  <tbody>\n",
       "    <tr>\n",
       "      <th>0</th>\n",
       "      <td>160155</td>\n",
       "      <td>Alienware Monitor</td>\n",
       "      <td>1</td>\n",
       "      <td>400.99</td>\n",
       "      <td>2024-01-01 05:04:00</td>\n",
       "      <td>765 Ridge St, Portland, OR 97035</td>\n",
       "      <td>1</td>\n",
       "      <td>2024</td>\n",
       "      <td>400.99</td>\n",
       "    </tr>\n",
       "    <tr>\n",
       "      <th>1</th>\n",
       "      <td>151041</td>\n",
       "      <td>AAA Batteries (4-pack)</td>\n",
       "      <td>1</td>\n",
       "      <td>4.99</td>\n",
       "      <td>2024-01-01 05:04:00</td>\n",
       "      <td>964 Lakeview St, Atlanta, GA 30301</td>\n",
       "      <td>1</td>\n",
       "      <td>2024</td>\n",
       "      <td>4.99</td>\n",
       "    </tr>\n",
       "    <tr>\n",
       "      <th>2</th>\n",
       "      <td>146765</td>\n",
       "      <td>AAA Batteries (4-pack)</td>\n",
       "      <td>1</td>\n",
       "      <td>4.99</td>\n",
       "      <td>2024-01-01 05:20:00</td>\n",
       "      <td>546 10th St, San Francisco, CA 94016</td>\n",
       "      <td>1</td>\n",
       "      <td>2024</td>\n",
       "      <td>4.99</td>\n",
       "    </tr>\n",
       "    <tr>\n",
       "      <th>3</th>\n",
       "      <td>145617</td>\n",
       "      <td>Amana Washing Machine</td>\n",
       "      <td>1</td>\n",
       "      <td>600.00</td>\n",
       "      <td>2024-01-01 05:24:00</td>\n",
       "      <td>961 Meadow St, Portland, OR 97035</td>\n",
       "      <td>1</td>\n",
       "      <td>2024</td>\n",
       "      <td>600.00</td>\n",
       "    </tr>\n",
       "    <tr>\n",
       "      <th>4</th>\n",
       "      <td>156535</td>\n",
       "      <td>iPhone</td>\n",
       "      <td>1</td>\n",
       "      <td>700.00</td>\n",
       "      <td>2024-01-01 05:45:00</td>\n",
       "      <td>451 Elm St, Los Angeles, CA 90001</td>\n",
       "      <td>1</td>\n",
       "      <td>2024</td>\n",
       "      <td>700.00</td>\n",
       "    </tr>\n",
       "    <tr>\n",
       "      <th>...</th>\n",
       "      <td>...</td>\n",
       "      <td>...</td>\n",
       "      <td>...</td>\n",
       "      <td>...</td>\n",
       "      <td>...</td>\n",
       "      <td>...</td>\n",
       "      <td>...</td>\n",
       "      <td>...</td>\n",
       "      <td>...</td>\n",
       "    </tr>\n",
       "    <tr>\n",
       "      <th>171538</th>\n",
       "      <td>297748</td>\n",
       "      <td>iPhone</td>\n",
       "      <td>1</td>\n",
       "      <td>700.00</td>\n",
       "      <td>2025-01-01 02:37:00</td>\n",
       "      <td>258 Forest St, Los Angeles, CA 90001</td>\n",
       "      <td>1</td>\n",
       "      <td>2025</td>\n",
       "      <td>700.00</td>\n",
       "    </tr>\n",
       "    <tr>\n",
       "      <th>171539</th>\n",
       "      <td>284606</td>\n",
       "      <td>Bose SoundSport Headphones</td>\n",
       "      <td>1</td>\n",
       "      <td>99.99</td>\n",
       "      <td>2025-01-01 02:50:00</td>\n",
       "      <td>211 Johnson St, Boston, MA 02215</td>\n",
       "      <td>1</td>\n",
       "      <td>2025</td>\n",
       "      <td>99.99</td>\n",
       "    </tr>\n",
       "    <tr>\n",
       "      <th>171540</th>\n",
       "      <td>302330</td>\n",
       "      <td>AA Batteries (4-pack)</td>\n",
       "      <td>1</td>\n",
       "      <td>5.84</td>\n",
       "      <td>2025-01-01 03:03:00</td>\n",
       "      <td>665 6th St, San Francisco, CA 94016</td>\n",
       "      <td>1</td>\n",
       "      <td>2025</td>\n",
       "      <td>5.84</td>\n",
       "    </tr>\n",
       "    <tr>\n",
       "      <th>171541</th>\n",
       "      <td>284711</td>\n",
       "      <td>AA Batteries (4-pack)</td>\n",
       "      <td>1</td>\n",
       "      <td>5.84</td>\n",
       "      <td>2025-01-01 03:19:00</td>\n",
       "      <td>250 8th St, San Francisco, CA 94016</td>\n",
       "      <td>1</td>\n",
       "      <td>2025</td>\n",
       "      <td>5.84</td>\n",
       "    </tr>\n",
       "    <tr>\n",
       "      <th>171542</th>\n",
       "      <td>303626</td>\n",
       "      <td>USB-C Charging Cable</td>\n",
       "      <td>3</td>\n",
       "      <td>11.95</td>\n",
       "      <td>2025-01-01 04:43:00</td>\n",
       "      <td>651 Lakeview St, Dallas, TX 75001</td>\n",
       "      <td>1</td>\n",
       "      <td>2025</td>\n",
       "      <td>35.85</td>\n",
       "    </tr>\n",
       "  </tbody>\n",
       "</table>\n",
       "<p>171543 rows × 9 columns</p>\n",
       "</div>"
      ],
      "text/plain": [
       "        Order ID                Product Name  Units Purchased  Unit Price  \\\n",
       "0         160155           Alienware Monitor                1      400.99   \n",
       "1         151041      AAA Batteries (4-pack)                1        4.99   \n",
       "2         146765      AAA Batteries (4-pack)                1        4.99   \n",
       "3         145617       Amana Washing Machine                1      600.00   \n",
       "4         156535                      iPhone                1      700.00   \n",
       "...          ...                         ...              ...         ...   \n",
       "171538    297748                      iPhone                1      700.00   \n",
       "171539    284606  Bose SoundSport Headphones                1       99.99   \n",
       "171540    302330       AA Batteries (4-pack)                1        5.84   \n",
       "171541    284711       AA Batteries (4-pack)                1        5.84   \n",
       "171542    303626        USB-C Charging Cable                3       11.95   \n",
       "\n",
       "                Order Date                      Delivery Address  Month  Year  \\\n",
       "0      2024-01-01 05:04:00      765 Ridge St, Portland, OR 97035      1  2024   \n",
       "1      2024-01-01 05:04:00    964 Lakeview St, Atlanta, GA 30301      1  2024   \n",
       "2      2024-01-01 05:20:00  546 10th St, San Francisco, CA 94016      1  2024   \n",
       "3      2024-01-01 05:24:00     961 Meadow St, Portland, OR 97035      1  2024   \n",
       "4      2024-01-01 05:45:00     451 Elm St, Los Angeles, CA 90001      1  2024   \n",
       "...                    ...                                   ...    ...   ...   \n",
       "171538 2025-01-01 02:37:00  258 Forest St, Los Angeles, CA 90001      1  2025   \n",
       "171539 2025-01-01 02:50:00      211 Johnson St, Boston, MA 02215      1  2025   \n",
       "171540 2025-01-01 03:03:00   665 6th St, San Francisco, CA 94016      1  2025   \n",
       "171541 2025-01-01 03:19:00   250 8th St, San Francisco, CA 94016      1  2025   \n",
       "171542 2025-01-01 04:43:00     651 Lakeview St, Dallas, TX 75001      1  2025   \n",
       "\n",
       "        Total Sales  \n",
       "0            400.99  \n",
       "1              4.99  \n",
       "2              4.99  \n",
       "3            600.00  \n",
       "4            700.00  \n",
       "...             ...  \n",
       "171538       700.00  \n",
       "171539        99.99  \n",
       "171540         5.84  \n",
       "171541         5.84  \n",
       "171542        35.85  \n",
       "\n",
       "[171543 rows x 9 columns]"
      ]
     },
     "execution_count": 38,
     "metadata": {},
     "output_type": "execute_result"
    }
   ],
   "source": [
    "df = df.sort_values(by = 'Order Date')\n",
    "\n",
    "df = df.reset_index(drop=True)\n",
    "df"
   ]
  },
  {
   "cell_type": "markdown",
   "id": "c796ea4c-656b-440b-b8b2-59c51d0e4fc2",
   "metadata": {},
   "source": [
    "##  Top 20 product pairs most frequently ordered together"
   ]
  },
  {
   "cell_type": "code",
   "execution_count": 40,
   "id": "d04466d9-df9d-4950-b9ac-7cb961300bc0",
   "metadata": {},
   "outputs": [
    {
     "data": {
      "text/plain": [
       "[(('iPhone', 'Lightning Charging Cable'), 473),\n",
       " (('USB-C Charging Cable', 'Google Phone'), 469),\n",
       " (('Google Phone', 'USB-C Charging Cable'), 465),\n",
       " (('Lightning Charging Cable', 'iPhone'), 443),\n",
       " (('iPhone', 'Galaxy buds Headphones'), 240),\n",
       " (('Galaxy buds Headphones', 'iPhone'), 216),\n",
       " (('Google Phone', 'Galaxy buds Headphones'), 195),\n",
       " (('Galaxy buds Headphones', 'Google Phone'), 178),\n",
       " (('Samsung Galaxy Phone', 'USB-C Charging Cable'), 177),\n",
       " (('iPhone', 'Apple Airpods Headphones'), 173),\n",
       " (('USB-C Charging Cable', 'Samsung Galaxy Phone'), 168),\n",
       " (('Apple Airpods Headphones', 'iPhone'), 147),\n",
       " (('Bose SoundSport Headphones', 'Google Phone'), 111),\n",
       " (('Google Phone', 'Bose SoundSport Headphones'), 94),\n",
       " (('USB-C Charging Cable', 'Galaxy buds Headphones'), 86),\n",
       " (('Galaxy buds Headphones', 'USB-C Charging Cable'), 82),\n",
       " (('Galaxy buds Headphones', 'Samsung Galaxy Phone'), 69),\n",
       " (('Lightning Charging Cable', 'Galaxy buds Headphones'), 66),\n",
       " (('Galaxy buds Headphones', 'Lightning Charging Cable'), 66),\n",
       " (('Samsung Galaxy Phone', 'Galaxy buds Headphones'), 65)]"
      ]
     },
     "execution_count": 40,
     "metadata": {},
     "output_type": "execute_result"
    }
   ],
   "source": [
    "# Filter rows with the same Order ID and add .copy() to avoid settingwithcopyWarning\n",
    "df2 = df[df['Order ID'].duplicated(keep=False)].copy()\n",
    "\n",
    "# Group Product Name with same Order ID\n",
    "df2['Grouped'] = df2.groupby('Order ID')['Product Name'].transform(lambda x: ','.join(x))\n",
    "\n",
    "# Drop any duplicates that may occur as a result of the grouping\n",
    "df3 = df2[['Order ID', 'Grouped']].drop_duplicates()\n",
    "\n",
    "df3.head(10)\n",
    "\n",
    "# Top 20 product pairs most frequently ordered together\n",
    "from itertools import combinations\n",
    "from collections import Counter\n",
    "\n",
    "count = Counter()\n",
    "\n",
    "for row in df3['Grouped']:\n",
    "    row_list = row.split(',')\n",
    "    count.update(Counter(combinations(row_list, 2)))\n",
    "\n",
    "top_combinations = count.most_common(20)\n",
    "\n",
    "top_combinations"
   ]
  },
  {
   "cell_type": "markdown",
   "id": "1449b585-b5fd-44e6-a3ae-f8d62c6567d5",
   "metadata": {},
   "source": [
    "## Top 10 sets of three (3) products most commonly ordered together"
   ]
  },
  {
   "cell_type": "code",
   "execution_count": 42,
   "id": "48a27407-6ca1-4b60-823a-e895e0951e41",
   "metadata": {
    "scrolled": true
   },
   "outputs": [
    {
     "data": {
      "text/plain": [
       "[(('Google Phone', 'USB-C Charging Cable', 'Galaxy buds Headphones'), 22),\n",
       " (('iPhone', 'Lightning Charging Cable', 'Galaxy buds Headphones'), 17),\n",
       " (('Galaxy buds Headphones', 'USB-C Charging Cable', 'Google Phone'), 17),\n",
       " (('iPhone', 'Lightning Charging Cable', 'Apple Airpods Headphones'), 15),\n",
       " (('Galaxy buds Headphones', 'Lightning Charging Cable', 'iPhone'), 11),\n",
       " (('Google Phone', 'USB-C Charging Cable', 'Bose SoundSport Headphones'), 10),\n",
       " (('Lightning Charging Cable', 'iPhone', 'Galaxy buds Headphones'), 10),\n",
       " (('iPhone', 'Galaxy buds Headphones', 'Lightning Charging Cable'), 10),\n",
       " (('USB-C Charging Cable', 'Google Phone', 'Galaxy buds Headphones'), 9),\n",
       " (('Bose SoundSport Headphones', 'USB-C Charging Cable', 'Google Phone'), 9)]"
      ]
     },
     "execution_count": 42,
     "metadata": {},
     "output_type": "execute_result"
    }
   ],
   "source": [
    "from itertools import combinations\n",
    "from collections import Counter\n",
    "\n",
    "count = Counter()\n",
    "\n",
    "for row in df3['Grouped']:\n",
    "    row_list = row.split(',')\n",
    "    count.update(Counter(combinations(row_list, 3)))\n",
    "\n",
    "# Collect top 10 most common combinations\n",
    "top_combinations = count.most_common(10)\n",
    "\n",
    "# Display results\n",
    "top_combinations"
   ]
  },
  {
   "cell_type": "markdown",
   "id": "a10b76d8-4ed5-4585-ac79-6ebc88d4f80c",
   "metadata": {},
   "source": [
    "## Key Insights\n",
    "\n",
    "1. Strong Accessory Dependency:\n",
    "\n",
    "- iPhone is frequently bought with the Lightning Charging Cable (473 times) and Apple AirPods Headphones (173 times), confirming a strong dependency on accessories.\n",
    "- Similar behavior observed for Google Phone and USB-C Charging Cable (469 times), and Samsung Galaxy Phone with the same cable (177 times).\n",
    "\n",
    "2. Bundling Behavior Around Devices:\n",
    "\n",
    "- Buyers often purchase phones with multiple accessories (e.g., Google Phone + USB-C Cable + Headphones combinations).\n",
    "- Example: Google Phone + USB-C Charging Cable + Bose SoundSport Headphones is a top 3-product combo.\n",
    "\n",
    "3. Cross-Brand Headphone Love:\n",
    "\n",
    "- Galaxy Buds Headphones appear frequently with iPhone, Google Phone, and Samsung Galaxy Phone, suggesting customers aren't loyal to brand-specific headphones. They mix and match based on price, design, or preference.\n",
    "\n",
    "4. Repetitive Combination Patterns:\n",
    "\n",
    "- Most of the high-frequency combinations are symmetrical (e.g., iPhone + Lightning Cable and Lightning Cable + iPhone)—reinforcing the reliability of the insight.\n",
    "\n",
    "5. Accessory-Driven Purchases:\n",
    "\n",
    "- Accessories like charging cables and headphones dominate the co-purchase behavior. These aren’t just afterthoughts—they're clearly planned purchases."
   ]
  },
  {
   "cell_type": "markdown",
   "id": "7457dc5e-2995-405a-89d5-d15a0eae8873",
   "metadata": {},
   "source": [
    "##  Strategic Recommendations\n",
    "\n",
    "1. Create Product Bundles:\n",
    "\n",
    "- Offer ready-made bundles (Example, iPhone + Lightning Cable + AirPods) with small discounts to promote upselling and convenience.\n",
    "\n",
    "\n",
    "2. Optimize Online Store Suggestions:\n",
    "\n",
    "- Implement \"Frequently Bought Together\" suggestions at checkout using the most frequent 2- and 3-product combinations.\n",
    "\n",
    "\n",
    "3. Improve In-Store Product Placement:\n",
    "\n",
    "- Place high-affinity products (Example, USB-C Cable and Google Phone) adjacent on shelves to encourage impulse add-ons.\n",
    "\n",
    "\n",
    "4. Run Targeted Promotions:\n",
    "\n",
    "- Create cross-promotion campaigns such as \"Buy a Google Phone and get 20% off USB-C Cable and Galaxy Buds.\"\n",
    "\n",
    "\n",
    "5. Inventory Forecasting:\n",
    "\n",
    "- Forecast accessory demand based on device sales, as customers are highly likely to buy them together."
   ]
  }
 ],
 "metadata": {
  "kernelspec": {
   "display_name": "Python [conda env:base] *",
   "language": "python",
   "name": "conda-base-py"
  },
  "language_info": {
   "codemirror_mode": {
    "name": "ipython",
    "version": 3
   },
   "file_extension": ".py",
   "mimetype": "text/x-python",
   "name": "python",
   "nbconvert_exporter": "python",
   "pygments_lexer": "ipython3",
   "version": "3.12.7"
  }
 },
 "nbformat": 4,
 "nbformat_minor": 5
}
