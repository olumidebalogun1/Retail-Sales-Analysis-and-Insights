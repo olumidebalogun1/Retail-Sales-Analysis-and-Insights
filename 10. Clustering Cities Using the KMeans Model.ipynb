{
 "cells": [
  {
   "cell_type": "markdown",
   "id": "d571401e-2bb9-4041-9cee-1249647b99a0",
   "metadata": {},
   "source": [
    "#  Machine Learning - Prescriptive Modeling"
   ]
  },
  {
   "cell_type": "markdown",
   "id": "f7a1c0a9-a33f-4434-be4e-fb200cb170d2",
   "metadata": {
    "jp-MarkdownHeadingCollapsed": true
   },
   "source": [
    "## Clustering Cities Using the KMeans Model "
   ]
  },
  {
   "cell_type": "markdown",
   "id": "678c0985-ed00-4e03-bcdb-34994dee1a12",
   "metadata": {},
   "source": [
    "## How can we group cities based on sales performance to uncover patterns for better sales strategy?"
   ]
  },
  {
   "cell_type": "markdown",
   "id": "c22c37ea-bf96-4943-9a27-09510869ea45",
   "metadata": {},
   "source": [
    "### 1. Overview\n",
    "\n",
    "In a competitive business environment where sales performance can vary significantly across locations, understanding geographic sales patterns is critical for strategic planning. This project leverages KMeans Clustering, a machine learning technique, to segment cities based on their Total Sales and Units Purchased. By grouping similar-performing cities, the analysis provides actionable insights that can shape targeted marketing strategies, resource allocation, and performance improvement initiatives. The result is a visual and data-driven framework to support smarter, more localized business decisions."
   ]
  },
  {
   "cell_type": "markdown",
   "id": "1c168e61-0d87-425d-9493-a7fc100e8ba2",
   "metadata": {},
   "source": [
    "### 2. Goal\n",
    "\n",
    "- To group cities into distinct clusters based on their total sales revenue and units purchased.\n",
    "- To identify underlying patterns in city-level sales performance.\n",
    "- To visualize city clusters and explore performance similarities or differences.\n",
    "- To provide data-driven recommendations for refining sales strategy, resource distribution, and market penetration."
   ]
  },
  {
   "cell_type": "markdown",
   "id": "580700dd-48f8-4e0c-8b84-bae20b01f888",
   "metadata": {},
   "source": [
    "###  3. Business Challenge\n",
    "\n",
    "- Inconsistent sales performance across multiple cities with limited understanding of the root causes.\n",
    "- Difficulty in prioritizing regions for sales efforts and investment.\n",
    "- Inefficient marketing and sales allocation, leading to suboptimal ROI.\n",
    "- Lack of segmentation intelligence for customized regional strategies."
   ]
  },
  {
   "cell_type": "markdown",
   "id": "b3631b78-150d-49cd-abe7-65cecf9a6011",
   "metadata": {},
   "source": [
    "###  4. Methodology\n",
    "\n",
    "- Data Preparation: Cleaned and grouped city-level sales and purchase data from the dataset.\n",
    "- Feature Selection: Focused on Total Sales and Units Purchased as key performance indicators.\n",
    "- Modeling: Applied KMeans Clustering to categorize cities into 3 distinct performance clusters.\n",
    "- Visualization: Developed a scatter plot to represent cluster assignments with intuitive color mapping.\n",
    "- Insight Reporting: Created a summary table to present each city’s cluster, sales, and purchase volume.\n",
    "- Strategic Interpretation: Used clustering output to recommend targeted actions for high, mid, and low-performing cities."
   ]
  },
  {
   "cell_type": "markdown",
   "id": "f6d47642-f309-4b64-9460-aac169001856",
   "metadata": {},
   "source": [
    "## Let's take a deep dive into the data"
   ]
  },
  {
   "cell_type": "markdown",
   "id": "6c21cef7-16ab-445c-ad17-9b0e1c4ec8dc",
   "metadata": {},
   "source": [
    "### Import necessary libraries"
   ]
  },
  {
   "cell_type": "code",
   "execution_count": 11,
   "id": "cd457c12-3927-4cb3-80b2-6af5e7945b5f",
   "metadata": {},
   "outputs": [],
   "source": [
    "import pandas as pd\n",
    "import os\n",
    "import glob"
   ]
  },
  {
   "cell_type": "code",
   "execution_count": 12,
   "id": "533961de-f977-4d11-b7c2-17cf47f5a620",
   "metadata": {},
   "outputs": [
    {
     "name": "stdout",
     "output_type": "stream",
     "text": [
      "All files integrated into: C:\\Monthly_Sales\\all_data.csv\n"
     ]
    }
   ],
   "source": [
    "folder_path = r\"C:\\Monthly_Sales\"\n",
    "\n",
    "# Retrieve all CSV files from the folder using glob\n",
    "all_files = glob.glob(os.path.join(folder_path, \"*.csv\"))\n",
    "\n",
    "# All CSV files combined as one DataFrame \n",
    "all_data = pd.concat([pd.read_csv(file) for file in all_files], ignore_index=True)\n",
    "\n",
    "# Merged DataFrame saved into a new CSV\n",
    "output_file = os.path.join(folder_path, \"all_data.csv\")\n",
    "all_data.to_csv(output_file, index=False)\n",
    "\n",
    "print(\"All files integrated into:\", output_file)"
   ]
  },
  {
   "cell_type": "markdown",
   "id": "e96e4d16-2abe-45a7-9874-d28d74b9a8b7",
   "metadata": {},
   "source": [
    "### Load the updated DataFrame"
   ]
  },
  {
   "cell_type": "code",
   "execution_count": 14,
   "id": "c670793c-5a52-4674-abe4-8b7363d8fcbc",
   "metadata": {},
   "outputs": [
    {
     "data": {
      "text/html": [
       "<div>\n",
       "<style scoped>\n",
       "    .dataframe tbody tr th:only-of-type {\n",
       "        vertical-align: middle;\n",
       "    }\n",
       "\n",
       "    .dataframe tbody tr th {\n",
       "        vertical-align: top;\n",
       "    }\n",
       "\n",
       "    .dataframe thead th {\n",
       "        text-align: right;\n",
       "    }\n",
       "</style>\n",
       "<table border=\"1\" class=\"dataframe\">\n",
       "  <thead>\n",
       "    <tr style=\"text-align: right;\">\n",
       "      <th></th>\n",
       "      <th>Order ID</th>\n",
       "      <th>Product Name</th>\n",
       "      <th>Units Purchased</th>\n",
       "      <th>Unit Price</th>\n",
       "      <th>Order Date</th>\n",
       "      <th>Delivery Address</th>\n",
       "    </tr>\n",
       "  </thead>\n",
       "  <tbody>\n",
       "    <tr>\n",
       "      <th>0</th>\n",
       "      <td>175667</td>\n",
       "      <td>iPhone</td>\n",
       "      <td>1</td>\n",
       "      <td>700.0</td>\n",
       "      <td>04/24/24 19:12</td>\n",
       "      <td>135 Meadow St, Boston, MA 02215</td>\n",
       "    </tr>\n",
       "    <tr>\n",
       "      <th>1</th>\n",
       "      <td>175668</td>\n",
       "      <td>AA Batteries (4-pack)</td>\n",
       "      <td>1</td>\n",
       "      <td>5.84</td>\n",
       "      <td>04/20/24 13:45</td>\n",
       "      <td>592 4th St, San Francisco, CA 94016</td>\n",
       "    </tr>\n",
       "    <tr>\n",
       "      <th>2</th>\n",
       "      <td>175669</td>\n",
       "      <td>AA Batteries (4-pack)</td>\n",
       "      <td>1</td>\n",
       "      <td>5.84</td>\n",
       "      <td>04/28/24 09:17</td>\n",
       "      <td>632 Park St, Dallas, TX 75001</td>\n",
       "    </tr>\n",
       "    <tr>\n",
       "      <th>3</th>\n",
       "      <td>175670</td>\n",
       "      <td>AA Batteries (4-pack)</td>\n",
       "      <td>2</td>\n",
       "      <td>5.84</td>\n",
       "      <td>04/23/24 14:06</td>\n",
       "      <td>131 Pine St, San Francisco, CA 94016</td>\n",
       "    </tr>\n",
       "    <tr>\n",
       "      <th>4</th>\n",
       "      <td>175671</td>\n",
       "      <td>Samsung Odyssey Monitor</td>\n",
       "      <td>1</td>\n",
       "      <td>409.99</td>\n",
       "      <td>04/23/24 12:13</td>\n",
       "      <td>836 Forest St, Boston, MA 02215</td>\n",
       "    </tr>\n",
       "  </tbody>\n",
       "</table>\n",
       "</div>"
      ],
      "text/plain": [
       "  Order ID             Product Name Units Purchased Unit Price  \\\n",
       "0   175667                   iPhone               1      700.0   \n",
       "1   175668    AA Batteries (4-pack)               1       5.84   \n",
       "2   175669    AA Batteries (4-pack)               1       5.84   \n",
       "3   175670    AA Batteries (4-pack)               2       5.84   \n",
       "4   175671  Samsung Odyssey Monitor               1     409.99   \n",
       "\n",
       "       Order Date                      Delivery Address  \n",
       "0  04/24/24 19:12       135 Meadow St, Boston, MA 02215  \n",
       "1  04/20/24 13:45   592 4th St, San Francisco, CA 94016  \n",
       "2  04/28/24 09:17         632 Park St, Dallas, TX 75001  \n",
       "3  04/23/24 14:06  131 Pine St, San Francisco, CA 94016  \n",
       "4  04/23/24 12:13       836 Forest St, Boston, MA 02215  "
      ]
     },
     "execution_count": 14,
     "metadata": {},
     "output_type": "execute_result"
    }
   ],
   "source": [
    "# Skip Blank Rows if present in the dataset\n",
    "\n",
    "df = pd.read_csv(r'C:\\Monthly_Sales\\all_data.csv', skip_blank_lines=True)\n",
    "df.head()"
   ]
  },
  {
   "cell_type": "markdown",
   "id": "abc04d92-40ee-4455-886c-ce7ab2598d91",
   "metadata": {},
   "source": [
    "## Data Cleaning Process\n",
    "\n",
    "Thoroughly clean and standardize the data to eliminate errors, ensure consistency, and build a solid foundation for meaningful insights."
   ]
  },
  {
   "cell_type": "markdown",
   "id": "df93c4e1-931e-4373-bbe5-3c2ebf65f426",
   "metadata": {},
   "source": [
    "### Find and remove rows with NaN values"
   ]
  },
  {
   "cell_type": "code",
   "execution_count": 17,
   "id": "cefa0cdd-2e73-41ab-855d-a67396efab25",
   "metadata": {},
   "outputs": [
    {
     "data": {
      "text/plain": [
       "Order ID            24640\n",
       "Product Name        24640\n",
       "Units Purchased     24642\n",
       "Unit Price          24642\n",
       "Order Date          24643\n",
       "Delivery Address    24644\n",
       "dtype: int64"
      ]
     },
     "execution_count": 17,
     "metadata": {},
     "output_type": "execute_result"
    }
   ],
   "source": [
    "df.isna().sum()"
   ]
  },
  {
   "cell_type": "code",
   "execution_count": 18,
   "id": "681c14dc-eaa6-403e-ae62-8e95d3fef866",
   "metadata": {},
   "outputs": [
    {
     "data": {
      "text/plain": [
       "Order ID            0\n",
       "Product Name        0\n",
       "Units Purchased     0\n",
       "Unit Price          0\n",
       "Order Date          1\n",
       "Delivery Address    2\n",
       "dtype: int64"
      ]
     },
     "execution_count": 18,
     "metadata": {},
     "output_type": "execute_result"
    }
   ],
   "source": [
    "# If Nan value is present in Order ID and Unit Purchased, it will be impossible to manipulate the data.\n",
    "# Therefore, drop Nan values in Order ID and Units Purchased.\n",
    "\n",
    "df.dropna(subset=['Order ID', 'Units Purchased'], inplace=True)\n",
    "\n",
    "# Check if Nan value is present\n",
    "df.isna().sum()"
   ]
  },
  {
   "cell_type": "code",
   "execution_count": 19,
   "id": "27af972a-292a-4be4-9dc5-789e828e3dbe",
   "metadata": {},
   "outputs": [
    {
     "data": {
      "text/html": [
       "<div>\n",
       "<style scoped>\n",
       "    .dataframe tbody tr th:only-of-type {\n",
       "        vertical-align: middle;\n",
       "    }\n",
       "\n",
       "    .dataframe tbody tr th {\n",
       "        vertical-align: top;\n",
       "    }\n",
       "\n",
       "    .dataframe thead th {\n",
       "        text-align: right;\n",
       "    }\n",
       "</style>\n",
       "<table border=\"1\" class=\"dataframe\">\n",
       "  <thead>\n",
       "    <tr style=\"text-align: right;\">\n",
       "      <th></th>\n",
       "      <th>Order ID</th>\n",
       "      <th>Product Name</th>\n",
       "      <th>Units Purchased</th>\n",
       "      <th>Unit Price</th>\n",
       "      <th>Order Date</th>\n",
       "      <th>Delivery Address</th>\n",
       "    </tr>\n",
       "  </thead>\n",
       "  <tbody>\n",
       "    <tr>\n",
       "      <th>2195228</th>\n",
       "      <td>Charging Cable</td>\n",
       "      <td>1</td>\n",
       "      <td>14.95</td>\n",
       "      <td>05/24/24 07:04</td>\n",
       "      <td>852 Hickory St, San Francisco, CA 94016</td>\n",
       "      <td>NaN</td>\n",
       "    </tr>\n",
       "    <tr>\n",
       "      <th>3001506</th>\n",
       "      <td>150766</td>\n",
       "      <td>iPhone</td>\n",
       "      <td>1</td>\n",
       "      <td>7</td>\n",
       "      <td>NaN</td>\n",
       "      <td>NaN</td>\n",
       "    </tr>\n",
       "  </tbody>\n",
       "</table>\n",
       "</div>"
      ],
      "text/plain": [
       "               Order ID Product Name Units Purchased      Unit Price  \\\n",
       "2195228  Charging Cable            1           14.95  05/24/24 07:04   \n",
       "3001506          150766       iPhone               1               7   \n",
       "\n",
       "                                      Order Date Delivery Address  \n",
       "2195228  852 Hickory St, San Francisco, CA 94016              NaN  \n",
       "3001506                                      NaN              NaN  "
      ]
     },
     "execution_count": 19,
     "metadata": {},
     "output_type": "execute_result"
    }
   ],
   "source": [
    "# Further check if any NaN values or blank rows are present\n",
    "\n",
    "blank_rows_na = df[df.isnull().any(axis=1)]\n",
    "blank_rows_na"
   ]
  },
  {
   "cell_type": "markdown",
   "id": "45ac1355-fb0c-4faa-b268-f2eb2fcadd52",
   "metadata": {},
   "source": [
    "### Find and remove rows with duplicate values"
   ]
  },
  {
   "cell_type": "code",
   "execution_count": 21,
   "id": "f7afaf3b-75e6-4e02-a37a-56391ad8dee2",
   "metadata": {},
   "outputs": [
    {
     "data": {
      "text/plain": [
       "0          False\n",
       "1          False\n",
       "2          False\n",
       "3          False\n",
       "4          False\n",
       "           ...  \n",
       "9489202     True\n",
       "9489203     True\n",
       "9489204     True\n",
       "9489205     True\n",
       "9489206     True\n",
       "Length: 9464565, dtype: bool"
      ]
     },
     "execution_count": 21,
     "metadata": {},
     "output_type": "execute_result"
    }
   ],
   "source": [
    "# Find duplicate values\n",
    "\n",
    "df.duplicated()"
   ]
  },
  {
   "cell_type": "code",
   "execution_count": 22,
   "id": "d4fd8126-dfaa-4ade-a717-b03c32b9b270",
   "metadata": {},
   "outputs": [
    {
     "data": {
      "text/plain": [
       "0          False\n",
       "1          False\n",
       "2          False\n",
       "3          False\n",
       "4          False\n",
       "           ...  \n",
       "172530     False\n",
       "2195228    False\n",
       "3001506    False\n",
       "6370083    False\n",
       "6403571    False\n",
       "Length: 171546, dtype: bool"
      ]
     },
     "execution_count": 22,
     "metadata": {},
     "output_type": "execute_result"
    }
   ],
   "source": [
    "# Check again for duplicated values\n",
    "\n",
    "df.drop_duplicates(inplace = True)\n",
    "\n",
    "# Check again for duplicated values\n",
    "df.duplicated()"
   ]
  },
  {
   "cell_type": "markdown",
   "id": "dadb773e-397b-4b5c-82f8-0d019e68b1a8",
   "metadata": {},
   "source": [
    "### Verify and fix incorrect data types in the dataset"
   ]
  },
  {
   "cell_type": "code",
   "execution_count": 24,
   "id": "86116414-a8c3-4e66-94db-423283d66266",
   "metadata": {},
   "outputs": [
    {
     "data": {
      "text/plain": [
       "Order ID            object\n",
       "Product Name        object\n",
       "Units Purchased     object\n",
       "Unit Price          object\n",
       "Order Date          object\n",
       "Delivery Address    object\n",
       "dtype: object"
      ]
     },
     "execution_count": 24,
     "metadata": {},
     "output_type": "execute_result"
    }
   ],
   "source": [
    "# check for data types\n",
    "\n",
    "df.dtypes"
   ]
  },
  {
   "cell_type": "markdown",
   "id": "614ce46c-ca57-4c72-9e4e-7388b7adf04c",
   "metadata": {},
   "source": [
    "### Fix incorrect data types"
   ]
  },
  {
   "cell_type": "code",
   "execution_count": 26,
   "id": "902bb4fb-f572-49e3-8cfd-5ecc91635579",
   "metadata": {},
   "outputs": [],
   "source": [
    "df['Order Date'] = pd.to_datetime(df['Order Date'], format='%m/%d/%y %H:%M', errors='coerce')\n",
    "\n",
    "df['Units Purchased'] = pd. to_numeric(df['Units Purchased'], errors='coerce')\n",
    "\n",
    "df['Unit Price'] = pd. to_numeric(df['Unit Price'], errors='coerce')"
   ]
  },
  {
   "cell_type": "code",
   "execution_count": 27,
   "id": "534026bb-5555-435d-8c9f-042e57ceb3e1",
   "metadata": {},
   "outputs": [
    {
     "data": {
      "text/plain": [
       "Order ID            0\n",
       "Product Name        0\n",
       "Units Purchased     1\n",
       "Unit Price          2\n",
       "Order Date          3\n",
       "Delivery Address    2\n",
       "dtype: int64"
      ]
     },
     "execution_count": 27,
     "metadata": {},
     "output_type": "execute_result"
    }
   ],
   "source": [
    "# Verify the presence of NaN values remaining in the columns as a result of using errors='coerce' during data conversion.\n",
    "\n",
    "df.isna().sum()"
   ]
  },
  {
   "cell_type": "code",
   "execution_count": 28,
   "id": "2b71fc8b-8acd-46e8-a339-707237c4280d",
   "metadata": {},
   "outputs": [],
   "source": [
    "df = df.dropna()"
   ]
  },
  {
   "cell_type": "markdown",
   "id": "e5382b09-15a8-42ff-a80d-1802a4894e15",
   "metadata": {},
   "source": [
    "### Change the data type to optimize memory usage (Optional)"
   ]
  },
  {
   "cell_type": "code",
   "execution_count": 30,
   "id": "3f3d661b-ec28-4e58-91d6-73dec63c3638",
   "metadata": {},
   "outputs": [],
   "source": [
    "df['Order ID'] = pd.to_numeric(df['Order ID'], downcast='integer') \n",
    "df['Product Name'] = df['Product Name'].astype('category')  \n",
    "df['Units Purchased'] = df['Units Purchased']. astype('int8') \n",
    "df['Unit Price'] = pd.to_numeric(df['Unit Price'], downcast='float')   \n",
    "df['Delivery Address'] = df['Delivery Address'].astype('category') "
   ]
  },
  {
   "cell_type": "markdown",
   "id": "aa1f4982-07ad-4fbd-86b5-4e9474d5dc6a",
   "metadata": {},
   "source": [
    "## Expand the dataset with supplementary columns"
   ]
  },
  {
   "cell_type": "code",
   "execution_count": 32,
   "id": "afd46d49-f97f-41a9-a2f7-3b333792f246",
   "metadata": {},
   "outputs": [
    {
     "data": {
      "text/html": [
       "<div>\n",
       "<style scoped>\n",
       "    .dataframe tbody tr th:only-of-type {\n",
       "        vertical-align: middle;\n",
       "    }\n",
       "\n",
       "    .dataframe tbody tr th {\n",
       "        vertical-align: top;\n",
       "    }\n",
       "\n",
       "    .dataframe thead th {\n",
       "        text-align: right;\n",
       "    }\n",
       "</style>\n",
       "<table border=\"1\" class=\"dataframe\">\n",
       "  <thead>\n",
       "    <tr style=\"text-align: right;\">\n",
       "      <th></th>\n",
       "      <th>Order ID</th>\n",
       "      <th>Product Name</th>\n",
       "      <th>Units Purchased</th>\n",
       "      <th>Unit Price</th>\n",
       "      <th>Order Date</th>\n",
       "      <th>Delivery Address</th>\n",
       "      <th>City</th>\n",
       "    </tr>\n",
       "  </thead>\n",
       "  <tbody>\n",
       "    <tr>\n",
       "      <th>0</th>\n",
       "      <td>175667</td>\n",
       "      <td>iPhone</td>\n",
       "      <td>1</td>\n",
       "      <td>700.00000</td>\n",
       "      <td>2024-04-24 19:12:00</td>\n",
       "      <td>135 Meadow St, Boston, MA 02215</td>\n",
       "      <td>Boston  (MA)</td>\n",
       "    </tr>\n",
       "    <tr>\n",
       "      <th>1</th>\n",
       "      <td>175668</td>\n",
       "      <td>AA Batteries (4-pack)</td>\n",
       "      <td>1</td>\n",
       "      <td>5.84000</td>\n",
       "      <td>2024-04-20 13:45:00</td>\n",
       "      <td>592 4th St, San Francisco, CA 94016</td>\n",
       "      <td>San Francisco  (CA)</td>\n",
       "    </tr>\n",
       "    <tr>\n",
       "      <th>2</th>\n",
       "      <td>175669</td>\n",
       "      <td>AA Batteries (4-pack)</td>\n",
       "      <td>1</td>\n",
       "      <td>5.84000</td>\n",
       "      <td>2024-04-28 09:17:00</td>\n",
       "      <td>632 Park St, Dallas, TX 75001</td>\n",
       "      <td>Dallas  (TX)</td>\n",
       "    </tr>\n",
       "    <tr>\n",
       "      <th>3</th>\n",
       "      <td>175670</td>\n",
       "      <td>AA Batteries (4-pack)</td>\n",
       "      <td>2</td>\n",
       "      <td>5.84000</td>\n",
       "      <td>2024-04-23 14:06:00</td>\n",
       "      <td>131 Pine St, San Francisco, CA 94016</td>\n",
       "      <td>San Francisco  (CA)</td>\n",
       "    </tr>\n",
       "    <tr>\n",
       "      <th>4</th>\n",
       "      <td>175671</td>\n",
       "      <td>Samsung Odyssey Monitor</td>\n",
       "      <td>1</td>\n",
       "      <td>409.98999</td>\n",
       "      <td>2024-04-23 12:13:00</td>\n",
       "      <td>836 Forest St, Boston, MA 02215</td>\n",
       "      <td>Boston  (MA)</td>\n",
       "    </tr>\n",
       "  </tbody>\n",
       "</table>\n",
       "</div>"
      ],
      "text/plain": [
       "   Order ID             Product Name  Units Purchased  Unit Price  \\\n",
       "0    175667                   iPhone                1   700.00000   \n",
       "1    175668    AA Batteries (4-pack)                1     5.84000   \n",
       "2    175669    AA Batteries (4-pack)                1     5.84000   \n",
       "3    175670    AA Batteries (4-pack)                2     5.84000   \n",
       "4    175671  Samsung Odyssey Monitor                1   409.98999   \n",
       "\n",
       "           Order Date                      Delivery Address  \\\n",
       "0 2024-04-24 19:12:00       135 Meadow St, Boston, MA 02215   \n",
       "1 2024-04-20 13:45:00   592 4th St, San Francisco, CA 94016   \n",
       "2 2024-04-28 09:17:00         632 Park St, Dallas, TX 75001   \n",
       "3 2024-04-23 14:06:00  131 Pine St, San Francisco, CA 94016   \n",
       "4 2024-04-23 12:13:00       836 Forest St, Boston, MA 02215   \n",
       "\n",
       "                  City  \n",
       "0         Boston  (MA)  \n",
       "1  San Francisco  (CA)  \n",
       "2         Dallas  (TX)  \n",
       "3  San Francisco  (CA)  \n",
       "4         Boston  (MA)  "
      ]
     },
     "execution_count": 32,
     "metadata": {},
     "output_type": "execute_result"
    }
   ],
   "source": [
    "# Add City column\n",
    "\n",
    "def city(address):\n",
    "    return address.split(\",\")[1].strip(\" \")\n",
    "\n",
    "def state_abbrev(address):\n",
    "    return address.split(\",\")[2].split(\" \")[1]\n",
    "\n",
    "df['City'] = df['Delivery Address'].apply(lambda x: f\"{city(x)}  ({state_abbrev(x)})\")\n",
    "df.head()"
   ]
  },
  {
   "cell_type": "code",
   "execution_count": 33,
   "id": "ffeb1076-b884-422a-ae31-9ed0c56ac1ff",
   "metadata": {},
   "outputs": [
    {
     "data": {
      "text/html": [
       "<div>\n",
       "<style scoped>\n",
       "    .dataframe tbody tr th:only-of-type {\n",
       "        vertical-align: middle;\n",
       "    }\n",
       "\n",
       "    .dataframe tbody tr th {\n",
       "        vertical-align: top;\n",
       "    }\n",
       "\n",
       "    .dataframe thead th {\n",
       "        text-align: right;\n",
       "    }\n",
       "</style>\n",
       "<table border=\"1\" class=\"dataframe\">\n",
       "  <thead>\n",
       "    <tr style=\"text-align: right;\">\n",
       "      <th></th>\n",
       "      <th>Order ID</th>\n",
       "      <th>Product Name</th>\n",
       "      <th>Units Purchased</th>\n",
       "      <th>Unit Price</th>\n",
       "      <th>Order Date</th>\n",
       "      <th>Delivery Address</th>\n",
       "      <th>City</th>\n",
       "      <th>Total Sales</th>\n",
       "    </tr>\n",
       "  </thead>\n",
       "  <tbody>\n",
       "    <tr>\n",
       "      <th>0</th>\n",
       "      <td>175667</td>\n",
       "      <td>iPhone</td>\n",
       "      <td>1</td>\n",
       "      <td>700.00000</td>\n",
       "      <td>2024-04-24 19:12:00</td>\n",
       "      <td>135 Meadow St, Boston, MA 02215</td>\n",
       "      <td>Boston  (MA)</td>\n",
       "      <td>700.00000</td>\n",
       "    </tr>\n",
       "    <tr>\n",
       "      <th>1</th>\n",
       "      <td>175668</td>\n",
       "      <td>AA Batteries (4-pack)</td>\n",
       "      <td>1</td>\n",
       "      <td>5.84000</td>\n",
       "      <td>2024-04-20 13:45:00</td>\n",
       "      <td>592 4th St, San Francisco, CA 94016</td>\n",
       "      <td>San Francisco  (CA)</td>\n",
       "      <td>5.84000</td>\n",
       "    </tr>\n",
       "    <tr>\n",
       "      <th>2</th>\n",
       "      <td>175669</td>\n",
       "      <td>AA Batteries (4-pack)</td>\n",
       "      <td>1</td>\n",
       "      <td>5.84000</td>\n",
       "      <td>2024-04-28 09:17:00</td>\n",
       "      <td>632 Park St, Dallas, TX 75001</td>\n",
       "      <td>Dallas  (TX)</td>\n",
       "      <td>5.84000</td>\n",
       "    </tr>\n",
       "    <tr>\n",
       "      <th>3</th>\n",
       "      <td>175670</td>\n",
       "      <td>AA Batteries (4-pack)</td>\n",
       "      <td>2</td>\n",
       "      <td>5.84000</td>\n",
       "      <td>2024-04-23 14:06:00</td>\n",
       "      <td>131 Pine St, San Francisco, CA 94016</td>\n",
       "      <td>San Francisco  (CA)</td>\n",
       "      <td>11.68000</td>\n",
       "    </tr>\n",
       "    <tr>\n",
       "      <th>4</th>\n",
       "      <td>175671</td>\n",
       "      <td>Samsung Odyssey Monitor</td>\n",
       "      <td>1</td>\n",
       "      <td>409.98999</td>\n",
       "      <td>2024-04-23 12:13:00</td>\n",
       "      <td>836 Forest St, Boston, MA 02215</td>\n",
       "      <td>Boston  (MA)</td>\n",
       "      <td>409.98999</td>\n",
       "    </tr>\n",
       "  </tbody>\n",
       "</table>\n",
       "</div>"
      ],
      "text/plain": [
       "   Order ID             Product Name  Units Purchased  Unit Price  \\\n",
       "0    175667                   iPhone                1   700.00000   \n",
       "1    175668    AA Batteries (4-pack)                1     5.84000   \n",
       "2    175669    AA Batteries (4-pack)                1     5.84000   \n",
       "3    175670    AA Batteries (4-pack)                2     5.84000   \n",
       "4    175671  Samsung Odyssey Monitor                1   409.98999   \n",
       "\n",
       "           Order Date                      Delivery Address  \\\n",
       "0 2024-04-24 19:12:00       135 Meadow St, Boston, MA 02215   \n",
       "1 2024-04-20 13:45:00   592 4th St, San Francisco, CA 94016   \n",
       "2 2024-04-28 09:17:00         632 Park St, Dallas, TX 75001   \n",
       "3 2024-04-23 14:06:00  131 Pine St, San Francisco, CA 94016   \n",
       "4 2024-04-23 12:13:00       836 Forest St, Boston, MA 02215   \n",
       "\n",
       "                  City  Total Sales  \n",
       "0         Boston  (MA)    700.00000  \n",
       "1  San Francisco  (CA)      5.84000  \n",
       "2         Dallas  (TX)      5.84000  \n",
       "3  San Francisco  (CA)     11.68000  \n",
       "4         Boston  (MA)    409.98999  "
      ]
     },
     "execution_count": 33,
     "metadata": {},
     "output_type": "execute_result"
    }
   ],
   "source": [
    "# Add Total Sales column\n",
    "\n",
    "df['Total Sales'] = df['Units Purchased'] * df['Unit Price']\n",
    "df.head()"
   ]
  },
  {
   "cell_type": "markdown",
   "id": "eab8d489-6662-4bb2-afd1-e7bb58b83fee",
   "metadata": {},
   "source": [
    "### Format Unit Price and Total Sales to 2 decimal places"
   ]
  },
  {
   "cell_type": "code",
   "execution_count": 35,
   "id": "4da63204-6cc1-4a2b-8ad9-f2402c2681fa",
   "metadata": {},
   "outputs": [
    {
     "data": {
      "text/html": [
       "<div>\n",
       "<style scoped>\n",
       "    .dataframe tbody tr th:only-of-type {\n",
       "        vertical-align: middle;\n",
       "    }\n",
       "\n",
       "    .dataframe tbody tr th {\n",
       "        vertical-align: top;\n",
       "    }\n",
       "\n",
       "    .dataframe thead th {\n",
       "        text-align: right;\n",
       "    }\n",
       "</style>\n",
       "<table border=\"1\" class=\"dataframe\">\n",
       "  <thead>\n",
       "    <tr style=\"text-align: right;\">\n",
       "      <th></th>\n",
       "      <th>Order ID</th>\n",
       "      <th>Product Name</th>\n",
       "      <th>Units Purchased</th>\n",
       "      <th>Unit Price</th>\n",
       "      <th>Order Date</th>\n",
       "      <th>Delivery Address</th>\n",
       "      <th>City</th>\n",
       "      <th>Total Sales</th>\n",
       "    </tr>\n",
       "  </thead>\n",
       "  <tbody>\n",
       "    <tr>\n",
       "      <th>0</th>\n",
       "      <td>175667</td>\n",
       "      <td>iPhone</td>\n",
       "      <td>1</td>\n",
       "      <td>700.00</td>\n",
       "      <td>2024-04-24 19:12:00</td>\n",
       "      <td>135 Meadow St, Boston, MA 02215</td>\n",
       "      <td>Boston  (MA)</td>\n",
       "      <td>700.00</td>\n",
       "    </tr>\n",
       "    <tr>\n",
       "      <th>1</th>\n",
       "      <td>175668</td>\n",
       "      <td>AA Batteries (4-pack)</td>\n",
       "      <td>1</td>\n",
       "      <td>5.84</td>\n",
       "      <td>2024-04-20 13:45:00</td>\n",
       "      <td>592 4th St, San Francisco, CA 94016</td>\n",
       "      <td>San Francisco  (CA)</td>\n",
       "      <td>5.84</td>\n",
       "    </tr>\n",
       "    <tr>\n",
       "      <th>2</th>\n",
       "      <td>175669</td>\n",
       "      <td>AA Batteries (4-pack)</td>\n",
       "      <td>1</td>\n",
       "      <td>5.84</td>\n",
       "      <td>2024-04-28 09:17:00</td>\n",
       "      <td>632 Park St, Dallas, TX 75001</td>\n",
       "      <td>Dallas  (TX)</td>\n",
       "      <td>5.84</td>\n",
       "    </tr>\n",
       "    <tr>\n",
       "      <th>3</th>\n",
       "      <td>175670</td>\n",
       "      <td>AA Batteries (4-pack)</td>\n",
       "      <td>2</td>\n",
       "      <td>5.84</td>\n",
       "      <td>2024-04-23 14:06:00</td>\n",
       "      <td>131 Pine St, San Francisco, CA 94016</td>\n",
       "      <td>San Francisco  (CA)</td>\n",
       "      <td>11.68</td>\n",
       "    </tr>\n",
       "    <tr>\n",
       "      <th>4</th>\n",
       "      <td>175671</td>\n",
       "      <td>Samsung Odyssey Monitor</td>\n",
       "      <td>1</td>\n",
       "      <td>409.99</td>\n",
       "      <td>2024-04-23 12:13:00</td>\n",
       "      <td>836 Forest St, Boston, MA 02215</td>\n",
       "      <td>Boston  (MA)</td>\n",
       "      <td>409.99</td>\n",
       "    </tr>\n",
       "  </tbody>\n",
       "</table>\n",
       "</div>"
      ],
      "text/plain": [
       "   Order ID             Product Name  Units Purchased Unit Price  \\\n",
       "0    175667                   iPhone                1     700.00   \n",
       "1    175668    AA Batteries (4-pack)                1       5.84   \n",
       "2    175669    AA Batteries (4-pack)                1       5.84   \n",
       "3    175670    AA Batteries (4-pack)                2       5.84   \n",
       "4    175671  Samsung Odyssey Monitor                1     409.99   \n",
       "\n",
       "           Order Date                      Delivery Address  \\\n",
       "0 2024-04-24 19:12:00       135 Meadow St, Boston, MA 02215   \n",
       "1 2024-04-20 13:45:00   592 4th St, San Francisco, CA 94016   \n",
       "2 2024-04-28 09:17:00         632 Park St, Dallas, TX 75001   \n",
       "3 2024-04-23 14:06:00  131 Pine St, San Francisco, CA 94016   \n",
       "4 2024-04-23 12:13:00       836 Forest St, Boston, MA 02215   \n",
       "\n",
       "                  City Total Sales  \n",
       "0         Boston  (MA)      700.00  \n",
       "1  San Francisco  (CA)        5.84  \n",
       "2         Dallas  (TX)        5.84  \n",
       "3  San Francisco  (CA)       11.68  \n",
       "4         Boston  (MA)      409.99  "
      ]
     },
     "execution_count": 35,
     "metadata": {},
     "output_type": "execute_result"
    }
   ],
   "source": [
    "df['Unit Price'] = df['Unit Price'].apply(lambda x: \"%.2f\" % x)\n",
    "\n",
    "df['Total Sales'] = df['Total Sales'].apply(lambda x: \"%.2f\" % x)\n",
    "df.head()"
   ]
  },
  {
   "cell_type": "code",
   "execution_count": 36,
   "id": "463a36f7-c715-4c84-aafa-a2d7a38f92cf",
   "metadata": {},
   "outputs": [],
   "source": [
    "# Convert from string to numeric\n",
    "\n",
    "df['Unit Price'] = pd.to_numeric(df['Unit Price'])\n",
    "df['Total Sales'] = pd.to_numeric(df['Total Sales'])"
   ]
  },
  {
   "cell_type": "code",
   "execution_count": 37,
   "id": "93004e53-0814-4244-981f-ad5a56ad94cd",
   "metadata": {},
   "outputs": [
    {
     "data": {
      "text/plain": [
       "Order ID                     int32\n",
       "Product Name              category\n",
       "Units Purchased               int8\n",
       "Unit Price                 float64\n",
       "Order Date          datetime64[ns]\n",
       "Delivery Address          category\n",
       "City                        object\n",
       "Total Sales                float64\n",
       "dtype: object"
      ]
     },
     "execution_count": 37,
     "metadata": {},
     "output_type": "execute_result"
    }
   ],
   "source": [
    "df.dtypes"
   ]
  },
  {
   "cell_type": "markdown",
   "id": "7e8e75fe-2adf-494a-a34f-1f91a333bf7f",
   "metadata": {},
   "source": [
    "### Organize Data by Order Date Chronologically and Reindex"
   ]
  },
  {
   "cell_type": "code",
   "execution_count": 39,
   "id": "10e2c04d-bb82-459e-8645-63f24f68f935",
   "metadata": {},
   "outputs": [
    {
     "data": {
      "text/html": [
       "<div>\n",
       "<style scoped>\n",
       "    .dataframe tbody tr th:only-of-type {\n",
       "        vertical-align: middle;\n",
       "    }\n",
       "\n",
       "    .dataframe tbody tr th {\n",
       "        vertical-align: top;\n",
       "    }\n",
       "\n",
       "    .dataframe thead th {\n",
       "        text-align: right;\n",
       "    }\n",
       "</style>\n",
       "<table border=\"1\" class=\"dataframe\">\n",
       "  <thead>\n",
       "    <tr style=\"text-align: right;\">\n",
       "      <th></th>\n",
       "      <th>Order ID</th>\n",
       "      <th>Product Name</th>\n",
       "      <th>Units Purchased</th>\n",
       "      <th>Unit Price</th>\n",
       "      <th>Order Date</th>\n",
       "      <th>Delivery Address</th>\n",
       "      <th>City</th>\n",
       "      <th>Total Sales</th>\n",
       "    </tr>\n",
       "  </thead>\n",
       "  <tbody>\n",
       "    <tr>\n",
       "      <th>0</th>\n",
       "      <td>160155</td>\n",
       "      <td>Alienware Monitor</td>\n",
       "      <td>1</td>\n",
       "      <td>400.99</td>\n",
       "      <td>2024-01-01 05:04:00</td>\n",
       "      <td>765 Ridge St, Portland, OR 97035</td>\n",
       "      <td>Portland  (OR)</td>\n",
       "      <td>400.99</td>\n",
       "    </tr>\n",
       "    <tr>\n",
       "      <th>1</th>\n",
       "      <td>151041</td>\n",
       "      <td>AAA Batteries (4-pack)</td>\n",
       "      <td>1</td>\n",
       "      <td>4.99</td>\n",
       "      <td>2024-01-01 05:04:00</td>\n",
       "      <td>964 Lakeview St, Atlanta, GA 30301</td>\n",
       "      <td>Atlanta  (GA)</td>\n",
       "      <td>4.99</td>\n",
       "    </tr>\n",
       "    <tr>\n",
       "      <th>2</th>\n",
       "      <td>146765</td>\n",
       "      <td>AAA Batteries (4-pack)</td>\n",
       "      <td>1</td>\n",
       "      <td>4.99</td>\n",
       "      <td>2024-01-01 05:20:00</td>\n",
       "      <td>546 10th St, San Francisco, CA 94016</td>\n",
       "      <td>San Francisco  (CA)</td>\n",
       "      <td>4.99</td>\n",
       "    </tr>\n",
       "    <tr>\n",
       "      <th>3</th>\n",
       "      <td>145617</td>\n",
       "      <td>Amana Washing Machine</td>\n",
       "      <td>1</td>\n",
       "      <td>600.00</td>\n",
       "      <td>2024-01-01 05:24:00</td>\n",
       "      <td>961 Meadow St, Portland, OR 97035</td>\n",
       "      <td>Portland  (OR)</td>\n",
       "      <td>600.00</td>\n",
       "    </tr>\n",
       "    <tr>\n",
       "      <th>4</th>\n",
       "      <td>156535</td>\n",
       "      <td>iPhone</td>\n",
       "      <td>1</td>\n",
       "      <td>700.00</td>\n",
       "      <td>2024-01-01 05:45:00</td>\n",
       "      <td>451 Elm St, Los Angeles, CA 90001</td>\n",
       "      <td>Los Angeles  (CA)</td>\n",
       "      <td>700.00</td>\n",
       "    </tr>\n",
       "    <tr>\n",
       "      <th>...</th>\n",
       "      <td>...</td>\n",
       "      <td>...</td>\n",
       "      <td>...</td>\n",
       "      <td>...</td>\n",
       "      <td>...</td>\n",
       "      <td>...</td>\n",
       "      <td>...</td>\n",
       "      <td>...</td>\n",
       "    </tr>\n",
       "    <tr>\n",
       "      <th>171538</th>\n",
       "      <td>297748</td>\n",
       "      <td>iPhone</td>\n",
       "      <td>1</td>\n",
       "      <td>700.00</td>\n",
       "      <td>2025-01-01 02:37:00</td>\n",
       "      <td>258 Forest St, Los Angeles, CA 90001</td>\n",
       "      <td>Los Angeles  (CA)</td>\n",
       "      <td>700.00</td>\n",
       "    </tr>\n",
       "    <tr>\n",
       "      <th>171539</th>\n",
       "      <td>284606</td>\n",
       "      <td>Bose SoundSport Headphones</td>\n",
       "      <td>1</td>\n",
       "      <td>99.99</td>\n",
       "      <td>2025-01-01 02:50:00</td>\n",
       "      <td>211 Johnson St, Boston, MA 02215</td>\n",
       "      <td>Boston  (MA)</td>\n",
       "      <td>99.99</td>\n",
       "    </tr>\n",
       "    <tr>\n",
       "      <th>171540</th>\n",
       "      <td>302330</td>\n",
       "      <td>AA Batteries (4-pack)</td>\n",
       "      <td>1</td>\n",
       "      <td>5.84</td>\n",
       "      <td>2025-01-01 03:03:00</td>\n",
       "      <td>665 6th St, San Francisco, CA 94016</td>\n",
       "      <td>San Francisco  (CA)</td>\n",
       "      <td>5.84</td>\n",
       "    </tr>\n",
       "    <tr>\n",
       "      <th>171541</th>\n",
       "      <td>284711</td>\n",
       "      <td>AA Batteries (4-pack)</td>\n",
       "      <td>1</td>\n",
       "      <td>5.84</td>\n",
       "      <td>2025-01-01 03:19:00</td>\n",
       "      <td>250 8th St, San Francisco, CA 94016</td>\n",
       "      <td>San Francisco  (CA)</td>\n",
       "      <td>5.84</td>\n",
       "    </tr>\n",
       "    <tr>\n",
       "      <th>171542</th>\n",
       "      <td>303626</td>\n",
       "      <td>USB-C Charging Cable</td>\n",
       "      <td>3</td>\n",
       "      <td>11.95</td>\n",
       "      <td>2025-01-01 04:43:00</td>\n",
       "      <td>651 Lakeview St, Dallas, TX 75001</td>\n",
       "      <td>Dallas  (TX)</td>\n",
       "      <td>35.85</td>\n",
       "    </tr>\n",
       "  </tbody>\n",
       "</table>\n",
       "<p>171543 rows × 8 columns</p>\n",
       "</div>"
      ],
      "text/plain": [
       "        Order ID                Product Name  Units Purchased  Unit Price  \\\n",
       "0         160155           Alienware Monitor                1      400.99   \n",
       "1         151041      AAA Batteries (4-pack)                1        4.99   \n",
       "2         146765      AAA Batteries (4-pack)                1        4.99   \n",
       "3         145617       Amana Washing Machine                1      600.00   \n",
       "4         156535                      iPhone                1      700.00   \n",
       "...          ...                         ...              ...         ...   \n",
       "171538    297748                      iPhone                1      700.00   \n",
       "171539    284606  Bose SoundSport Headphones                1       99.99   \n",
       "171540    302330       AA Batteries (4-pack)                1        5.84   \n",
       "171541    284711       AA Batteries (4-pack)                1        5.84   \n",
       "171542    303626        USB-C Charging Cable                3       11.95   \n",
       "\n",
       "                Order Date                      Delivery Address  \\\n",
       "0      2024-01-01 05:04:00      765 Ridge St, Portland, OR 97035   \n",
       "1      2024-01-01 05:04:00    964 Lakeview St, Atlanta, GA 30301   \n",
       "2      2024-01-01 05:20:00  546 10th St, San Francisco, CA 94016   \n",
       "3      2024-01-01 05:24:00     961 Meadow St, Portland, OR 97035   \n",
       "4      2024-01-01 05:45:00     451 Elm St, Los Angeles, CA 90001   \n",
       "...                    ...                                   ...   \n",
       "171538 2025-01-01 02:37:00  258 Forest St, Los Angeles, CA 90001   \n",
       "171539 2025-01-01 02:50:00      211 Johnson St, Boston, MA 02215   \n",
       "171540 2025-01-01 03:03:00   665 6th St, San Francisco, CA 94016   \n",
       "171541 2025-01-01 03:19:00   250 8th St, San Francisco, CA 94016   \n",
       "171542 2025-01-01 04:43:00     651 Lakeview St, Dallas, TX 75001   \n",
       "\n",
       "                       City  Total Sales  \n",
       "0            Portland  (OR)       400.99  \n",
       "1             Atlanta  (GA)         4.99  \n",
       "2       San Francisco  (CA)         4.99  \n",
       "3            Portland  (OR)       600.00  \n",
       "4         Los Angeles  (CA)       700.00  \n",
       "...                     ...          ...  \n",
       "171538    Los Angeles  (CA)       700.00  \n",
       "171539         Boston  (MA)        99.99  \n",
       "171540  San Francisco  (CA)         5.84  \n",
       "171541  San Francisco  (CA)         5.84  \n",
       "171542         Dallas  (TX)        35.85  \n",
       "\n",
       "[171543 rows x 8 columns]"
      ]
     },
     "execution_count": 39,
     "metadata": {},
     "output_type": "execute_result"
    }
   ],
   "source": [
    "df = df.sort_values(by = 'Order Date')\n",
    "\n",
    "df = df.reset_index(drop=True)\n",
    "df"
   ]
  },
  {
   "cell_type": "markdown",
   "id": "f7179469-81d9-48f5-a2e7-5f5f9971fd2b",
   "metadata": {},
   "source": [
    "#### Replace 'Boston  (\\rA)' with 'Boston  (MA)'"
   ]
  },
  {
   "cell_type": "code",
   "execution_count": 41,
   "id": "ebe951b1-f4b1-4af9-89fd-6880cfa3c2f0",
   "metadata": {},
   "outputs": [],
   "source": [
    "import re\n",
    "\n",
    "df['City'] = df['City'].str.replace(r'Boston\\s+\\(\\rA\\)', 'Boston  (MA)', regex=True)"
   ]
  },
  {
   "cell_type": "markdown",
   "id": "d1b05e05-b34a-416a-90e4-27dab754b592",
   "metadata": {},
   "source": [
    "## Plot City Clustering using KMeans"
   ]
  },
  {
   "cell_type": "code",
   "execution_count": 43,
   "id": "d04466d9-df9d-4950-b9ac-7cb961300bc0",
   "metadata": {},
   "outputs": [
    {
     "data": {
      "image/png": "[encoded data removed]",
      "text/plain": [
       "<Figure size 1200x800 with 1 Axes>"
      ]
     },
     "metadata": {},
     "output_type": "display_data"
    }
   ],
   "source": [
    "import matplotlib.pyplot as plt\n",
    "from matplotlib.ticker import FuncFormatter\n",
    "from sklearn.cluster import KMeans\n",
    "\n",
    "# Deep copy to avoid modifying the original DataFrame\n",
    "df_cluster = df.copy(deep=True)\n",
    "\n",
    "# Cluster Cities based on total sales\n",
    "city_sales_data = df_cluster.groupby('City').agg({'Total Sales': 'sum','Units Purchased': 'sum'}).reset_index()\n",
    "\n",
    "city_sales_data.columns = city_sales_data.columns.str.strip()\n",
    "city_sales_data['City'] = city_sales_data['City'].astype(str).str.replace(r'[\\r\\n\\t]', '', regex=True).str.strip()\n",
    "\n",
    "# KMeans clustering\n",
    "kmeans = KMeans(n_clusters=3, random_state=42)\n",
    "city_sales_data['Cluster'] = kmeans.fit_predict(city_sales_data[['Total Sales', 'Units Purchased']])\n",
    "\n",
    "fig, ax = plt.subplots(figsize=(12, 8))\n",
    "\n",
    "# Scatter plot\n",
    "df_scatter = ax.scatter(\n",
    "    city_sales_data['Total Sales'],\n",
    "    city_sales_data['Units Purchased'],\n",
    "    c=city_sales_data['Cluster'],\n",
    "    cmap='viridis',\n",
    "    s=100,\n",
    "    edgecolor='black'\n",
    ")\n",
    "\n",
    "# Axis labels and formatting\n",
    "ax.set_xlabel('Total Sales  in USD ($)', labelpad=20)    \n",
    "ax.set_ylabel('Units Purchased')\n",
    "ax.set_title('City Clustering')\n",
    "ax.grid(linewidth=0.2)\n",
    "ax.xaxis.set_major_formatter(FuncFormatter(lambda x, _: f'{x:,.0f}'))\n",
    "\n",
    "# Legend\n",
    "handles, _ = df_scatter.legend_elements()\n",
    "ax.legend(handles, [f'Cluster {i}' for i in range(len(handles))], title='Clusters')\n",
    "\n",
    "# Prepare table data\n",
    "table_data = city_sales_data[['Cluster', 'City', 'Units Purchased', 'Total Sales']].copy()\n",
    "table_data['Units Purchased'] = table_data['Units Purchased'].apply(lambda x: f'{x:,.0f}')\n",
    "table_data['Total Sales'] = table_data['Total Sales'].apply(lambda x: f'${x:,.0f}')\n",
    "\n",
    "cell_text = table_data.values.tolist()\n",
    "columns = table_data.columns.tolist()\n",
    "\n",
    "table = plt.table(\n",
    "    cellText=cell_text,\n",
    "    colLabels=columns,\n",
    "    loc='bottom',\n",
    "    cellLoc='center',\n",
    "    bbox=[0.0, -0.6, 1, 0.4]  # Lowered the table further\n",
    ")\n",
    "table.auto_set_font_size(False)\n",
    "table.set_fontsize(10)\n",
    "\n",
    "plt.subplots_adjust(left=0.1, bottom=0.10) \n",
    "\n",
    "plt.show()"
   ]
  },
  {
   "cell_type": "markdown",
   "id": "ce3b1e17-0cc2-4949-b01b-09083c215e02",
   "metadata": {},
   "source": [
    "## Key Insights and Strategic Recommendations\n",
    "\n",
    "### 1. Cluster 0 – High Sales & High Volume Cities\n",
    "\n",
    "#### Interpretation:\n",
    "\n",
    "- Cities in this cluster show strong performance in both revenue and unit sales.\n",
    "- Indicates high demand, strong customer base, and effective local execution.\n",
    "    \n",
    "\n",
    "### Strategic Recommendations:\n",
    "\n",
    "- Double down on success: Increase inventory levels, staffing, and marketing budget.\n",
    "- Introduce loyalty programs to retain high-value customers.\n",
    "- Launch premium products or upsell/cross-sell strategies, these cities are more likely to adopt.\n",
    "- Consider using these cities as benchmarks or pilots for new product launches.\n",
    "\n",
    "\n",
    "### 2. Cluster 1 – Moderate Sales & Moderate Volume Cities\n",
    "\n",
    "#### Interpretation:\n",
    "\n",
    "- These cities perform reasonably well but have room for growth.\n",
    "- Represents stable markets with potential to be moved into the high-performing cluster.\n",
    "\n",
    "\n",
    "###  Strategic Recommendations:\n",
    "\n",
    "- Localized promotions to drive awareness and increase repeat purchases.\n",
    "- Sales training or incentive programs to boost performance.\n",
    "- Monitor customer behavior and competitor activity.\n",
    "\n",
    "\n",
    "### 3. Cluster 2 – Low Sales & Low Volume Cities\n",
    "\n",
    "#### Interpretation:\n",
    "\n",
    "- Underperforming regions with low revenue and low units sold.\n",
    "- Maybe an indication of market saturation, low demand, or ineffective sales presence.\n",
    "    \n",
    "\n",
    "### Strategic Recommendations:\n",
    "\n",
    "- Cost-efficiency measures: Evaluate whether continued investment is justified.\n",
    "- Reassess market potential: Are these markets viable with a different strategy?"
   ]
  }
 ],
 "metadata": {
  "kernelspec": {
   "display_name": "Python [conda env:base] *",
   "language": "python",
   "name": "conda-base-py"
  },
  "language_info": {
   "codemirror_mode": {
    "name": "ipython",
    "version": 3
   },
   "file_extension": ".py",
   "mimetype": "text/x-python",
   "name": "python",
   "nbconvert_exporter": "python",
   "pygments_lexer": "ipython3",
   "version": "3.12.7"
  }
 },
 "nbformat": 4,
 "nbformat_minor": 5
}
